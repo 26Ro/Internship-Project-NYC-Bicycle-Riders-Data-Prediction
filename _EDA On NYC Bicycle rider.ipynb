{
 "cells": [
  {
   "cell_type": "code",
   "execution_count": 107,
   "id": "551aa0b5",
   "metadata": {},
   "outputs": [],
   "source": [
    "#Importing Library\n",
    "import numpy as np  \n",
    "import pandas as pd\n",
    "import matplotlib.pyplot as plt\n",
    "import seaborn "
   ]
  },
  {
   "cell_type": "code",
   "execution_count": 5,
   "id": "9e261ed9",
   "metadata": {},
   "outputs": [],
   "source": [
    "#Importing Datframe \n",
    "Data=pd.read_csv(\"nyc-east-river-bicycle-counts feature.csv\")"
   ]
  },
  {
   "cell_type": "code",
   "execution_count": 6,
   "id": "26659081",
   "metadata": {},
   "outputs": [
    {
     "data": {
      "text/html": [
       "<div>\n",
       "<style scoped>\n",
       "    .dataframe tbody tr th:only-of-type {\n",
       "        vertical-align: middle;\n",
       "    }\n",
       "\n",
       "    .dataframe tbody tr th {\n",
       "        vertical-align: top;\n",
       "    }\n",
       "\n",
       "    .dataframe thead th {\n",
       "        text-align: right;\n",
       "    }\n",
       "</style>\n",
       "<table border=\"1\" class=\"dataframe\">\n",
       "  <thead>\n",
       "    <tr style=\"text-align: right;\">\n",
       "      <th></th>\n",
       "      <th>Index</th>\n",
       "      <th>Date</th>\n",
       "      <th>High Temp (°F)</th>\n",
       "      <th>Low Temp (°F)</th>\n",
       "      <th>Precipitation</th>\n",
       "      <th>Brooklyn Bridge</th>\n",
       "      <th>Manhattan Bridge</th>\n",
       "      <th>Williamsburg Bridge</th>\n",
       "      <th>Queensboro Bridge</th>\n",
       "      <th>Total</th>\n",
       "    </tr>\n",
       "  </thead>\n",
       "  <tbody>\n",
       "    <tr>\n",
       "      <th>0</th>\n",
       "      <td>0</td>\n",
       "      <td>01-04-2016 00:00</td>\n",
       "      <td>78.1</td>\n",
       "      <td>66.0</td>\n",
       "      <td>0.01</td>\n",
       "      <td>1704</td>\n",
       "      <td>3126</td>\n",
       "      <td>4115</td>\n",
       "      <td>2552</td>\n",
       "      <td>11497</td>\n",
       "    </tr>\n",
       "    <tr>\n",
       "      <th>1</th>\n",
       "      <td>1</td>\n",
       "      <td>02-04-2016 00:00</td>\n",
       "      <td>55.0</td>\n",
       "      <td>48.9</td>\n",
       "      <td>0.15</td>\n",
       "      <td>827</td>\n",
       "      <td>1646</td>\n",
       "      <td>2565</td>\n",
       "      <td>1884</td>\n",
       "      <td>6922</td>\n",
       "    </tr>\n",
       "    <tr>\n",
       "      <th>2</th>\n",
       "      <td>2</td>\n",
       "      <td>03-04-2016 00:00</td>\n",
       "      <td>39.9</td>\n",
       "      <td>34.0</td>\n",
       "      <td>0.09</td>\n",
       "      <td>526</td>\n",
       "      <td>1232</td>\n",
       "      <td>1695</td>\n",
       "      <td>1306</td>\n",
       "      <td>4759</td>\n",
       "    </tr>\n",
       "    <tr>\n",
       "      <th>3</th>\n",
       "      <td>3</td>\n",
       "      <td>04-04-2016 00:00</td>\n",
       "      <td>44.1</td>\n",
       "      <td>33.1</td>\n",
       "      <td>0.47 (S)</td>\n",
       "      <td>521</td>\n",
       "      <td>1067</td>\n",
       "      <td>1440</td>\n",
       "      <td>1307</td>\n",
       "      <td>4335</td>\n",
       "    </tr>\n",
       "    <tr>\n",
       "      <th>4</th>\n",
       "      <td>4</td>\n",
       "      <td>05-04-2016 00:00</td>\n",
       "      <td>42.1</td>\n",
       "      <td>26.1</td>\n",
       "      <td>0</td>\n",
       "      <td>1416</td>\n",
       "      <td>2617</td>\n",
       "      <td>3081</td>\n",
       "      <td>2357</td>\n",
       "      <td>9471</td>\n",
       "    </tr>\n",
       "    <tr>\n",
       "      <th>...</th>\n",
       "      <td>...</td>\n",
       "      <td>...</td>\n",
       "      <td>...</td>\n",
       "      <td>...</td>\n",
       "      <td>...</td>\n",
       "      <td>...</td>\n",
       "      <td>...</td>\n",
       "      <td>...</td>\n",
       "      <td>...</td>\n",
       "      <td>...</td>\n",
       "    </tr>\n",
       "    <tr>\n",
       "      <th>205</th>\n",
       "      <td>205</td>\n",
       "      <td>26-04-2016 00:00</td>\n",
       "      <td>60.1</td>\n",
       "      <td>46.9</td>\n",
       "      <td>0.24</td>\n",
       "      <td>1997</td>\n",
       "      <td>3520</td>\n",
       "      <td>4559</td>\n",
       "      <td>2929</td>\n",
       "      <td>13005</td>\n",
       "    </tr>\n",
       "    <tr>\n",
       "      <th>206</th>\n",
       "      <td>206</td>\n",
       "      <td>27-04-2016 00:00</td>\n",
       "      <td>62.1</td>\n",
       "      <td>46.9</td>\n",
       "      <td>0</td>\n",
       "      <td>3343</td>\n",
       "      <td>5606</td>\n",
       "      <td>6577</td>\n",
       "      <td>4388</td>\n",
       "      <td>19914</td>\n",
       "    </tr>\n",
       "    <tr>\n",
       "      <th>207</th>\n",
       "      <td>207</td>\n",
       "      <td>28-04-2016 00:00</td>\n",
       "      <td>57.9</td>\n",
       "      <td>48.0</td>\n",
       "      <td>0</td>\n",
       "      <td>2486</td>\n",
       "      <td>4152</td>\n",
       "      <td>5336</td>\n",
       "      <td>3657</td>\n",
       "      <td>15631</td>\n",
       "    </tr>\n",
       "    <tr>\n",
       "      <th>208</th>\n",
       "      <td>208</td>\n",
       "      <td>29-04-2016 00:00</td>\n",
       "      <td>57.0</td>\n",
       "      <td>46.9</td>\n",
       "      <td>0.05</td>\n",
       "      <td>2375</td>\n",
       "      <td>4178</td>\n",
       "      <td>5053</td>\n",
       "      <td>3348</td>\n",
       "      <td>14954</td>\n",
       "    </tr>\n",
       "    <tr>\n",
       "      <th>209</th>\n",
       "      <td>209</td>\n",
       "      <td>30-04-2016 00:00</td>\n",
       "      <td>64.0</td>\n",
       "      <td>48.0</td>\n",
       "      <td>0</td>\n",
       "      <td>3199</td>\n",
       "      <td>4952</td>\n",
       "      <td>5675</td>\n",
       "      <td>3606</td>\n",
       "      <td>17432</td>\n",
       "    </tr>\n",
       "  </tbody>\n",
       "</table>\n",
       "<p>210 rows × 10 columns</p>\n",
       "</div>"
      ],
      "text/plain": [
       "     Index              Date  High Temp (°F)  Low Temp (°F) Precipitation  \\\n",
       "0        0  01-04-2016 00:00            78.1           66.0          0.01   \n",
       "1        1  02-04-2016 00:00            55.0           48.9          0.15   \n",
       "2        2  03-04-2016 00:00            39.9           34.0          0.09   \n",
       "3        3  04-04-2016 00:00            44.1           33.1      0.47 (S)   \n",
       "4        4  05-04-2016 00:00            42.1           26.1             0   \n",
       "..     ...               ...             ...            ...           ...   \n",
       "205    205  26-04-2016 00:00            60.1           46.9          0.24   \n",
       "206    206  27-04-2016 00:00            62.1           46.9             0   \n",
       "207    207  28-04-2016 00:00            57.9           48.0             0   \n",
       "208    208  29-04-2016 00:00            57.0           46.9          0.05   \n",
       "209    209  30-04-2016 00:00            64.0           48.0             0   \n",
       "\n",
       "     Brooklyn Bridge  Manhattan Bridge  Williamsburg Bridge  \\\n",
       "0               1704              3126                 4115   \n",
       "1                827              1646                 2565   \n",
       "2                526              1232                 1695   \n",
       "3                521              1067                 1440   \n",
       "4               1416              2617                 3081   \n",
       "..               ...               ...                  ...   \n",
       "205             1997              3520                 4559   \n",
       "206             3343              5606                 6577   \n",
       "207             2486              4152                 5336   \n",
       "208             2375              4178                 5053   \n",
       "209             3199              4952                 5675   \n",
       "\n",
       "     Queensboro Bridge  Total  \n",
       "0                 2552  11497  \n",
       "1                 1884   6922  \n",
       "2                 1306   4759  \n",
       "3                 1307   4335  \n",
       "4                 2357   9471  \n",
       "..                 ...    ...  \n",
       "205               2929  13005  \n",
       "206               4388  19914  \n",
       "207               3657  15631  \n",
       "208               3348  14954  \n",
       "209               3606  17432  \n",
       "\n",
       "[210 rows x 10 columns]"
      ]
     },
     "execution_count": 6,
     "metadata": {},
     "output_type": "execute_result"
    }
   ],
   "source": [
    "Data"
   ]
  },
  {
   "cell_type": "code",
   "execution_count": 7,
   "id": "3b7fe29b",
   "metadata": {},
   "outputs": [
    {
     "data": {
      "text/html": [
       "<div>\n",
       "<style scoped>\n",
       "    .dataframe tbody tr th:only-of-type {\n",
       "        vertical-align: middle;\n",
       "    }\n",
       "\n",
       "    .dataframe tbody tr th {\n",
       "        vertical-align: top;\n",
       "    }\n",
       "\n",
       "    .dataframe thead th {\n",
       "        text-align: right;\n",
       "    }\n",
       "</style>\n",
       "<table border=\"1\" class=\"dataframe\">\n",
       "  <thead>\n",
       "    <tr style=\"text-align: right;\">\n",
       "      <th></th>\n",
       "      <th>Index</th>\n",
       "      <th>Date</th>\n",
       "      <th>High Temp (°F)</th>\n",
       "      <th>Low Temp (°F)</th>\n",
       "      <th>Precipitation</th>\n",
       "      <th>Brooklyn Bridge</th>\n",
       "      <th>Manhattan Bridge</th>\n",
       "      <th>Williamsburg Bridge</th>\n",
       "      <th>Queensboro Bridge</th>\n",
       "      <th>Total</th>\n",
       "    </tr>\n",
       "  </thead>\n",
       "  <tbody>\n",
       "    <tr>\n",
       "      <th>0</th>\n",
       "      <td>0</td>\n",
       "      <td>01-04-2016 00:00</td>\n",
       "      <td>78.1</td>\n",
       "      <td>66.0</td>\n",
       "      <td>0.01</td>\n",
       "      <td>1704</td>\n",
       "      <td>3126</td>\n",
       "      <td>4115</td>\n",
       "      <td>2552</td>\n",
       "      <td>11497</td>\n",
       "    </tr>\n",
       "    <tr>\n",
       "      <th>1</th>\n",
       "      <td>1</td>\n",
       "      <td>02-04-2016 00:00</td>\n",
       "      <td>55.0</td>\n",
       "      <td>48.9</td>\n",
       "      <td>0.15</td>\n",
       "      <td>827</td>\n",
       "      <td>1646</td>\n",
       "      <td>2565</td>\n",
       "      <td>1884</td>\n",
       "      <td>6922</td>\n",
       "    </tr>\n",
       "    <tr>\n",
       "      <th>2</th>\n",
       "      <td>2</td>\n",
       "      <td>03-04-2016 00:00</td>\n",
       "      <td>39.9</td>\n",
       "      <td>34.0</td>\n",
       "      <td>0.09</td>\n",
       "      <td>526</td>\n",
       "      <td>1232</td>\n",
       "      <td>1695</td>\n",
       "      <td>1306</td>\n",
       "      <td>4759</td>\n",
       "    </tr>\n",
       "    <tr>\n",
       "      <th>3</th>\n",
       "      <td>3</td>\n",
       "      <td>04-04-2016 00:00</td>\n",
       "      <td>44.1</td>\n",
       "      <td>33.1</td>\n",
       "      <td>0.47 (S)</td>\n",
       "      <td>521</td>\n",
       "      <td>1067</td>\n",
       "      <td>1440</td>\n",
       "      <td>1307</td>\n",
       "      <td>4335</td>\n",
       "    </tr>\n",
       "    <tr>\n",
       "      <th>4</th>\n",
       "      <td>4</td>\n",
       "      <td>05-04-2016 00:00</td>\n",
       "      <td>42.1</td>\n",
       "      <td>26.1</td>\n",
       "      <td>0</td>\n",
       "      <td>1416</td>\n",
       "      <td>2617</td>\n",
       "      <td>3081</td>\n",
       "      <td>2357</td>\n",
       "      <td>9471</td>\n",
       "    </tr>\n",
       "  </tbody>\n",
       "</table>\n",
       "</div>"
      ],
      "text/plain": [
       "   Index              Date  High Temp (°F)  Low Temp (°F) Precipitation  \\\n",
       "0      0  01-04-2016 00:00            78.1           66.0          0.01   \n",
       "1      1  02-04-2016 00:00            55.0           48.9          0.15   \n",
       "2      2  03-04-2016 00:00            39.9           34.0          0.09   \n",
       "3      3  04-04-2016 00:00            44.1           33.1      0.47 (S)   \n",
       "4      4  05-04-2016 00:00            42.1           26.1             0   \n",
       "\n",
       "   Brooklyn Bridge  Manhattan Bridge  Williamsburg Bridge  Queensboro Bridge  \\\n",
       "0             1704              3126                 4115               2552   \n",
       "1              827              1646                 2565               1884   \n",
       "2              526              1232                 1695               1306   \n",
       "3              521              1067                 1440               1307   \n",
       "4             1416              2617                 3081               2357   \n",
       "\n",
       "   Total  \n",
       "0  11497  \n",
       "1   6922  \n",
       "2   4759  \n",
       "3   4335  \n",
       "4   9471  "
      ]
     },
     "execution_count": 7,
     "metadata": {},
     "output_type": "execute_result"
    }
   ],
   "source": [
    "Data.head()"
   ]
  },
  {
   "cell_type": "code",
   "execution_count": 8,
   "id": "93e52f75",
   "metadata": {},
   "outputs": [
    {
     "name": "stdout",
     "output_type": "stream",
     "text": [
      "<class 'pandas.core.frame.DataFrame'>\n",
      "RangeIndex: 210 entries, 0 to 209\n",
      "Data columns (total 10 columns):\n",
      " #   Column               Non-Null Count  Dtype  \n",
      "---  ------               --------------  -----  \n",
      " 0   Index                210 non-null    int64  \n",
      " 1   Date                 210 non-null    object \n",
      " 2   High Temp (°F)       210 non-null    float64\n",
      " 3   Low Temp (°F)        210 non-null    float64\n",
      " 4   Precipitation        210 non-null    object \n",
      " 5   Brooklyn Bridge      210 non-null    int64  \n",
      " 6   Manhattan Bridge     210 non-null    int64  \n",
      " 7   Williamsburg Bridge  210 non-null    int64  \n",
      " 8   Queensboro Bridge    210 non-null    int64  \n",
      " 9   Total                210 non-null    int64  \n",
      "dtypes: float64(2), int64(6), object(2)\n",
      "memory usage: 16.5+ KB\n"
     ]
    }
   ],
   "source": [
    "# Data.info() is used to get the information about the dataframe.\n",
    "Data.info()\n"
   ]
  },
  {
   "cell_type": "code",
   "execution_count": 9,
   "id": "60706f64",
   "metadata": {},
   "outputs": [
    {
     "data": {
      "text/html": [
       "<div>\n",
       "<style scoped>\n",
       "    .dataframe tbody tr th:only-of-type {\n",
       "        vertical-align: middle;\n",
       "    }\n",
       "\n",
       "    .dataframe tbody tr th {\n",
       "        vertical-align: top;\n",
       "    }\n",
       "\n",
       "    .dataframe thead th {\n",
       "        text-align: right;\n",
       "    }\n",
       "</style>\n",
       "<table border=\"1\" class=\"dataframe\">\n",
       "  <thead>\n",
       "    <tr style=\"text-align: right;\">\n",
       "      <th></th>\n",
       "      <th>Index</th>\n",
       "      <th>High Temp (°F)</th>\n",
       "      <th>Low Temp (°F)</th>\n",
       "      <th>Brooklyn Bridge</th>\n",
       "      <th>Manhattan Bridge</th>\n",
       "      <th>Williamsburg Bridge</th>\n",
       "      <th>Queensboro Bridge</th>\n",
       "      <th>Total</th>\n",
       "    </tr>\n",
       "  </thead>\n",
       "  <tbody>\n",
       "    <tr>\n",
       "      <th>count</th>\n",
       "      <td>210.000000</td>\n",
       "      <td>210.000000</td>\n",
       "      <td>210.000000</td>\n",
       "      <td>210.000000</td>\n",
       "      <td>210.000000</td>\n",
       "      <td>210.000000</td>\n",
       "      <td>210.000000</td>\n",
       "      <td>210.000000</td>\n",
       "    </tr>\n",
       "    <tr>\n",
       "      <th>mean</th>\n",
       "      <td>104.500000</td>\n",
       "      <td>60.580000</td>\n",
       "      <td>46.413333</td>\n",
       "      <td>2269.633333</td>\n",
       "      <td>4049.533333</td>\n",
       "      <td>4862.466667</td>\n",
       "      <td>3352.866667</td>\n",
       "      <td>14534.500000</td>\n",
       "    </tr>\n",
       "    <tr>\n",
       "      <th>std</th>\n",
       "      <td>60.765944</td>\n",
       "      <td>11.183223</td>\n",
       "      <td>9.522796</td>\n",
       "      <td>981.237786</td>\n",
       "      <td>1704.731356</td>\n",
       "      <td>1814.039499</td>\n",
       "      <td>1099.254419</td>\n",
       "      <td>5569.173496</td>\n",
       "    </tr>\n",
       "    <tr>\n",
       "      <th>min</th>\n",
       "      <td>0.000000</td>\n",
       "      <td>39.900000</td>\n",
       "      <td>26.100000</td>\n",
       "      <td>504.000000</td>\n",
       "      <td>997.000000</td>\n",
       "      <td>1440.000000</td>\n",
       "      <td>1306.000000</td>\n",
       "      <td>4335.000000</td>\n",
       "    </tr>\n",
       "    <tr>\n",
       "      <th>25%</th>\n",
       "      <td>52.250000</td>\n",
       "      <td>55.000000</td>\n",
       "      <td>44.100000</td>\n",
       "      <td>1447.000000</td>\n",
       "      <td>2617.000000</td>\n",
       "      <td>3282.000000</td>\n",
       "      <td>2457.000000</td>\n",
       "      <td>9596.000000</td>\n",
       "    </tr>\n",
       "    <tr>\n",
       "      <th>50%</th>\n",
       "      <td>104.500000</td>\n",
       "      <td>62.100000</td>\n",
       "      <td>46.900000</td>\n",
       "      <td>2379.500000</td>\n",
       "      <td>4165.000000</td>\n",
       "      <td>5194.000000</td>\n",
       "      <td>3477.000000</td>\n",
       "      <td>15292.500000</td>\n",
       "    </tr>\n",
       "    <tr>\n",
       "      <th>75%</th>\n",
       "      <td>156.750000</td>\n",
       "      <td>68.000000</td>\n",
       "      <td>50.000000</td>\n",
       "      <td>3147.000000</td>\n",
       "      <td>5309.000000</td>\n",
       "      <td>6030.000000</td>\n",
       "      <td>4192.000000</td>\n",
       "      <td>18315.000000</td>\n",
       "    </tr>\n",
       "    <tr>\n",
       "      <th>max</th>\n",
       "      <td>209.000000</td>\n",
       "      <td>81.000000</td>\n",
       "      <td>66.000000</td>\n",
       "      <td>3871.000000</td>\n",
       "      <td>6951.000000</td>\n",
       "      <td>7834.000000</td>\n",
       "      <td>5032.000000</td>\n",
       "      <td>23318.000000</td>\n",
       "    </tr>\n",
       "  </tbody>\n",
       "</table>\n",
       "</div>"
      ],
      "text/plain": [
       "            Index  High Temp (°F)  Low Temp (°F)  Brooklyn Bridge  \\\n",
       "count  210.000000      210.000000     210.000000       210.000000   \n",
       "mean   104.500000       60.580000      46.413333      2269.633333   \n",
       "std     60.765944       11.183223       9.522796       981.237786   \n",
       "min      0.000000       39.900000      26.100000       504.000000   \n",
       "25%     52.250000       55.000000      44.100000      1447.000000   \n",
       "50%    104.500000       62.100000      46.900000      2379.500000   \n",
       "75%    156.750000       68.000000      50.000000      3147.000000   \n",
       "max    209.000000       81.000000      66.000000      3871.000000   \n",
       "\n",
       "       Manhattan Bridge  Williamsburg Bridge  Queensboro Bridge         Total  \n",
       "count        210.000000           210.000000         210.000000    210.000000  \n",
       "mean        4049.533333          4862.466667        3352.866667  14534.500000  \n",
       "std         1704.731356          1814.039499        1099.254419   5569.173496  \n",
       "min          997.000000          1440.000000        1306.000000   4335.000000  \n",
       "25%         2617.000000          3282.000000        2457.000000   9596.000000  \n",
       "50%         4165.000000          5194.000000        3477.000000  15292.500000  \n",
       "75%         5309.000000          6030.000000        4192.000000  18315.000000  \n",
       "max         6951.000000          7834.000000        5032.000000  23318.000000  "
      ]
     },
     "execution_count": 9,
     "metadata": {},
     "output_type": "execute_result"
    }
   ],
   "source": [
    "Data.describe()"
   ]
  },
  {
   "cell_type": "code",
   "execution_count": 10,
   "id": "63e9907c",
   "metadata": {},
   "outputs": [
    {
     "data": {
      "text/html": [
       "<div>\n",
       "<style scoped>\n",
       "    .dataframe tbody tr th:only-of-type {\n",
       "        vertical-align: middle;\n",
       "    }\n",
       "\n",
       "    .dataframe tbody tr th {\n",
       "        vertical-align: top;\n",
       "    }\n",
       "\n",
       "    .dataframe thead th {\n",
       "        text-align: right;\n",
       "    }\n",
       "</style>\n",
       "<table border=\"1\" class=\"dataframe\">\n",
       "  <thead>\n",
       "    <tr style=\"text-align: right;\">\n",
       "      <th></th>\n",
       "      <th>Index</th>\n",
       "      <th>Date</th>\n",
       "      <th>High Temp (°F)</th>\n",
       "      <th>Low Temp (°F)</th>\n",
       "      <th>Precipitation</th>\n",
       "      <th>Brooklyn Bridge</th>\n",
       "      <th>Manhattan Bridge</th>\n",
       "      <th>Williamsburg Bridge</th>\n",
       "      <th>Queensboro Bridge</th>\n",
       "      <th>Total</th>\n",
       "    </tr>\n",
       "  </thead>\n",
       "  <tbody>\n",
       "    <tr>\n",
       "      <th>0</th>\n",
       "      <td>False</td>\n",
       "      <td>False</td>\n",
       "      <td>False</td>\n",
       "      <td>False</td>\n",
       "      <td>False</td>\n",
       "      <td>False</td>\n",
       "      <td>False</td>\n",
       "      <td>False</td>\n",
       "      <td>False</td>\n",
       "      <td>False</td>\n",
       "    </tr>\n",
       "    <tr>\n",
       "      <th>1</th>\n",
       "      <td>False</td>\n",
       "      <td>False</td>\n",
       "      <td>False</td>\n",
       "      <td>False</td>\n",
       "      <td>False</td>\n",
       "      <td>False</td>\n",
       "      <td>False</td>\n",
       "      <td>False</td>\n",
       "      <td>False</td>\n",
       "      <td>False</td>\n",
       "    </tr>\n",
       "    <tr>\n",
       "      <th>2</th>\n",
       "      <td>False</td>\n",
       "      <td>False</td>\n",
       "      <td>False</td>\n",
       "      <td>False</td>\n",
       "      <td>False</td>\n",
       "      <td>False</td>\n",
       "      <td>False</td>\n",
       "      <td>False</td>\n",
       "      <td>False</td>\n",
       "      <td>False</td>\n",
       "    </tr>\n",
       "    <tr>\n",
       "      <th>3</th>\n",
       "      <td>False</td>\n",
       "      <td>False</td>\n",
       "      <td>False</td>\n",
       "      <td>False</td>\n",
       "      <td>False</td>\n",
       "      <td>False</td>\n",
       "      <td>False</td>\n",
       "      <td>False</td>\n",
       "      <td>False</td>\n",
       "      <td>False</td>\n",
       "    </tr>\n",
       "    <tr>\n",
       "      <th>4</th>\n",
       "      <td>False</td>\n",
       "      <td>False</td>\n",
       "      <td>False</td>\n",
       "      <td>False</td>\n",
       "      <td>False</td>\n",
       "      <td>False</td>\n",
       "      <td>False</td>\n",
       "      <td>False</td>\n",
       "      <td>False</td>\n",
       "      <td>False</td>\n",
       "    </tr>\n",
       "    <tr>\n",
       "      <th>...</th>\n",
       "      <td>...</td>\n",
       "      <td>...</td>\n",
       "      <td>...</td>\n",
       "      <td>...</td>\n",
       "      <td>...</td>\n",
       "      <td>...</td>\n",
       "      <td>...</td>\n",
       "      <td>...</td>\n",
       "      <td>...</td>\n",
       "      <td>...</td>\n",
       "    </tr>\n",
       "    <tr>\n",
       "      <th>205</th>\n",
       "      <td>False</td>\n",
       "      <td>False</td>\n",
       "      <td>False</td>\n",
       "      <td>False</td>\n",
       "      <td>False</td>\n",
       "      <td>False</td>\n",
       "      <td>False</td>\n",
       "      <td>False</td>\n",
       "      <td>False</td>\n",
       "      <td>False</td>\n",
       "    </tr>\n",
       "    <tr>\n",
       "      <th>206</th>\n",
       "      <td>False</td>\n",
       "      <td>False</td>\n",
       "      <td>False</td>\n",
       "      <td>False</td>\n",
       "      <td>False</td>\n",
       "      <td>False</td>\n",
       "      <td>False</td>\n",
       "      <td>False</td>\n",
       "      <td>False</td>\n",
       "      <td>False</td>\n",
       "    </tr>\n",
       "    <tr>\n",
       "      <th>207</th>\n",
       "      <td>False</td>\n",
       "      <td>False</td>\n",
       "      <td>False</td>\n",
       "      <td>False</td>\n",
       "      <td>False</td>\n",
       "      <td>False</td>\n",
       "      <td>False</td>\n",
       "      <td>False</td>\n",
       "      <td>False</td>\n",
       "      <td>False</td>\n",
       "    </tr>\n",
       "    <tr>\n",
       "      <th>208</th>\n",
       "      <td>False</td>\n",
       "      <td>False</td>\n",
       "      <td>False</td>\n",
       "      <td>False</td>\n",
       "      <td>False</td>\n",
       "      <td>False</td>\n",
       "      <td>False</td>\n",
       "      <td>False</td>\n",
       "      <td>False</td>\n",
       "      <td>False</td>\n",
       "    </tr>\n",
       "    <tr>\n",
       "      <th>209</th>\n",
       "      <td>False</td>\n",
       "      <td>False</td>\n",
       "      <td>False</td>\n",
       "      <td>False</td>\n",
       "      <td>False</td>\n",
       "      <td>False</td>\n",
       "      <td>False</td>\n",
       "      <td>False</td>\n",
       "      <td>False</td>\n",
       "      <td>False</td>\n",
       "    </tr>\n",
       "  </tbody>\n",
       "</table>\n",
       "<p>210 rows × 10 columns</p>\n",
       "</div>"
      ],
      "text/plain": [
       "     Index   Date  High Temp (°F)  Low Temp (°F)  Precipitation  \\\n",
       "0    False  False           False          False          False   \n",
       "1    False  False           False          False          False   \n",
       "2    False  False           False          False          False   \n",
       "3    False  False           False          False          False   \n",
       "4    False  False           False          False          False   \n",
       "..     ...    ...             ...            ...            ...   \n",
       "205  False  False           False          False          False   \n",
       "206  False  False           False          False          False   \n",
       "207  False  False           False          False          False   \n",
       "208  False  False           False          False          False   \n",
       "209  False  False           False          False          False   \n",
       "\n",
       "     Brooklyn Bridge  Manhattan Bridge  Williamsburg Bridge  \\\n",
       "0              False             False                False   \n",
       "1              False             False                False   \n",
       "2              False             False                False   \n",
       "3              False             False                False   \n",
       "4              False             False                False   \n",
       "..               ...               ...                  ...   \n",
       "205            False             False                False   \n",
       "206            False             False                False   \n",
       "207            False             False                False   \n",
       "208            False             False                False   \n",
       "209            False             False                False   \n",
       "\n",
       "     Queensboro Bridge  Total  \n",
       "0                False  False  \n",
       "1                False  False  \n",
       "2                False  False  \n",
       "3                False  False  \n",
       "4                False  False  \n",
       "..                 ...    ...  \n",
       "205              False  False  \n",
       "206              False  False  \n",
       "207              False  False  \n",
       "208              False  False  \n",
       "209              False  False  \n",
       "\n",
       "[210 rows x 10 columns]"
      ]
     },
     "execution_count": 10,
     "metadata": {},
     "output_type": "execute_result"
    }
   ],
   "source": [
    "Data.isnull()"
   ]
  },
  {
   "cell_type": "code",
   "execution_count": null,
   "id": "b9d06271",
   "metadata": {},
   "outputs": [],
   "source": [
    "#In this Project we have Done Exploratory Data Analysis seperately on all four bridges which are there in the dataset."
   ]
  },
  {
   "cell_type": "code",
   "execution_count": null,
   "id": "367a0cf0",
   "metadata": {},
   "outputs": [],
   "source": [
    "# Brooklyn Bridge"
   ]
  },
  {
   "cell_type": "code",
   "execution_count": 13,
   "id": "8a18ee9b",
   "metadata": {},
   "outputs": [
    {
     "data": {
      "text/html": [
       "<div>\n",
       "<style scoped>\n",
       "    .dataframe tbody tr th:only-of-type {\n",
       "        vertical-align: middle;\n",
       "    }\n",
       "\n",
       "    .dataframe tbody tr th {\n",
       "        vertical-align: top;\n",
       "    }\n",
       "\n",
       "    .dataframe thead th {\n",
       "        text-align: right;\n",
       "    }\n",
       "</style>\n",
       "<table border=\"1\" class=\"dataframe\">\n",
       "  <thead>\n",
       "    <tr style=\"text-align: right;\">\n",
       "      <th></th>\n",
       "      <th>Date</th>\n",
       "      <th>High Temp (°F)</th>\n",
       "      <th>Brooklyn Bridge</th>\n",
       "    </tr>\n",
       "  </thead>\n",
       "  <tbody>\n",
       "    <tr>\n",
       "      <th>0</th>\n",
       "      <td>01-04-2016 00:00</td>\n",
       "      <td>78.1</td>\n",
       "      <td>1704</td>\n",
       "    </tr>\n",
       "    <tr>\n",
       "      <th>1</th>\n",
       "      <td>02-04-2016 00:00</td>\n",
       "      <td>55.0</td>\n",
       "      <td>827</td>\n",
       "    </tr>\n",
       "    <tr>\n",
       "      <th>2</th>\n",
       "      <td>03-04-2016 00:00</td>\n",
       "      <td>39.9</td>\n",
       "      <td>526</td>\n",
       "    </tr>\n",
       "    <tr>\n",
       "      <th>3</th>\n",
       "      <td>04-04-2016 00:00</td>\n",
       "      <td>44.1</td>\n",
       "      <td>521</td>\n",
       "    </tr>\n",
       "    <tr>\n",
       "      <th>4</th>\n",
       "      <td>05-04-2016 00:00</td>\n",
       "      <td>42.1</td>\n",
       "      <td>1416</td>\n",
       "    </tr>\n",
       "    <tr>\n",
       "      <th>...</th>\n",
       "      <td>...</td>\n",
       "      <td>...</td>\n",
       "      <td>...</td>\n",
       "    </tr>\n",
       "    <tr>\n",
       "      <th>205</th>\n",
       "      <td>26-04-2016 00:00</td>\n",
       "      <td>60.1</td>\n",
       "      <td>1997</td>\n",
       "    </tr>\n",
       "    <tr>\n",
       "      <th>206</th>\n",
       "      <td>27-04-2016 00:00</td>\n",
       "      <td>62.1</td>\n",
       "      <td>3343</td>\n",
       "    </tr>\n",
       "    <tr>\n",
       "      <th>207</th>\n",
       "      <td>28-04-2016 00:00</td>\n",
       "      <td>57.9</td>\n",
       "      <td>2486</td>\n",
       "    </tr>\n",
       "    <tr>\n",
       "      <th>208</th>\n",
       "      <td>29-04-2016 00:00</td>\n",
       "      <td>57.0</td>\n",
       "      <td>2375</td>\n",
       "    </tr>\n",
       "    <tr>\n",
       "      <th>209</th>\n",
       "      <td>30-04-2016 00:00</td>\n",
       "      <td>64.0</td>\n",
       "      <td>3199</td>\n",
       "    </tr>\n",
       "  </tbody>\n",
       "</table>\n",
       "<p>210 rows × 3 columns</p>\n",
       "</div>"
      ],
      "text/plain": [
       "                 Date  High Temp (°F)  Brooklyn Bridge\n",
       "0    01-04-2016 00:00            78.1             1704\n",
       "1    02-04-2016 00:00            55.0              827\n",
       "2    03-04-2016 00:00            39.9              526\n",
       "3    04-04-2016 00:00            44.1              521\n",
       "4    05-04-2016 00:00            42.1             1416\n",
       "..                ...             ...              ...\n",
       "205  26-04-2016 00:00            60.1             1997\n",
       "206  27-04-2016 00:00            62.1             3343\n",
       "207  28-04-2016 00:00            57.9             2486\n",
       "208  29-04-2016 00:00            57.0             2375\n",
       "209  30-04-2016 00:00            64.0             3199\n",
       "\n",
       "[210 rows x 3 columns]"
      ]
     },
     "execution_count": 13,
     "metadata": {},
     "output_type": "execute_result"
    }
   ],
   "source": [
    "Data[['Date','High Temp (°F)','Brooklyn Bridge']]"
   ]
  },
  {
   "cell_type": "code",
   "execution_count": null,
   "id": "cee561dc",
   "metadata": {},
   "outputs": [],
   "source": [
    "#Maximum Daily Bicycle Ridership is turned out to be 3871  on 18/04/2016\n",
    "#This ridership no is calculated for 24hrs. \n",
    "# Which comes out 162 riders crossing the Brooklyn Bridge in 1hr on 18th April.\n"
   ]
  },
  {
   "cell_type": "code",
   "execution_count": 109,
   "id": "5349cc58",
   "metadata": {},
   "outputs": [
    {
     "name": "stderr",
     "output_type": "stream",
     "text": [
      "C:\\Users\\rohit\\AppData\\Local\\Temp\\ipykernel_14708\\3477199419.py:1: FutureWarning: Dropping of nuisance columns in DataFrame reductions (with 'numeric_only=None') is deprecated; in a future version this will raise TypeError.  Select only valid columns before calling the reduction.\n",
      "  Data[['Date','High Temp (°F)','Brooklyn Bridge']].mean()\n"
     ]
    },
    {
     "data": {
      "text/plain": [
       "High Temp (°F)       60.580000\n",
       "Brooklyn Bridge    2269.633333\n",
       "dtype: float64"
      ]
     },
     "execution_count": 109,
     "metadata": {},
     "output_type": "execute_result"
    }
   ],
   "source": [
    " Data[['Date','High Temp (°F)','Brooklyn Bridge']].mean()"
   ]
  },
  {
   "cell_type": "code",
   "execution_count": null,
   "id": "b46cdc8a",
   "metadata": {},
   "outputs": [],
   "source": [
    "#The average Bicycle rider's crossing the Brooklyn is found out to be 2270.\n",
    "# That means every hour 95 riders crosses the bridge.\n",
    "#The Average High temperature fell by an bicycle is 60.5°F"
   ]
  },
  {
   "cell_type": "code",
   "execution_count": 51,
   "id": "d3283df2",
   "metadata": {},
   "outputs": [
    {
     "data": {
      "text/plain": [
       "Date               18-04-2016 00:00\n",
       "High Temp (°F)                 81.0\n",
       "Low Temp (°F)                  52.0\n",
       "Precipitation                     0\n",
       "Brooklyn Bridge                3871\n",
       "Name: 17, dtype: object"
      ]
     },
     "execution_count": 51,
     "metadata": {},
     "output_type": "execute_result"
    }
   ],
   "source": [
    " Data.loc[17,'Date':'Brooklyn Bridge']"
   ]
  },
  {
   "cell_type": "code",
   "execution_count": null,
   "id": "7252627c",
   "metadata": {},
   "outputs": [],
   "source": [
    "# The Bicycle Ridership is directly proportional to the High Temp in the environment. "
   ]
  },
  {
   "cell_type": "code",
   "execution_count": 37,
   "id": "3c6612ff",
   "metadata": {},
   "outputs": [],
   "source": [
    "Brooklyn=Data[['Date','High Temp (°F)','Brooklyn Bridge']]"
   ]
  },
  {
   "cell_type": "code",
   "execution_count": 38,
   "id": "78bab172",
   "metadata": {},
   "outputs": [
    {
     "data": {
      "text/html": [
       "<div>\n",
       "<style scoped>\n",
       "    .dataframe tbody tr th:only-of-type {\n",
       "        vertical-align: middle;\n",
       "    }\n",
       "\n",
       "    .dataframe tbody tr th {\n",
       "        vertical-align: top;\n",
       "    }\n",
       "\n",
       "    .dataframe thead th {\n",
       "        text-align: right;\n",
       "    }\n",
       "</style>\n",
       "<table border=\"1\" class=\"dataframe\">\n",
       "  <thead>\n",
       "    <tr style=\"text-align: right;\">\n",
       "      <th></th>\n",
       "      <th>Date</th>\n",
       "      <th>High Temp (°F)</th>\n",
       "      <th>Brooklyn Bridge</th>\n",
       "    </tr>\n",
       "  </thead>\n",
       "  <tbody>\n",
       "    <tr>\n",
       "      <th>0</th>\n",
       "      <td>01-04-2016 00:00</td>\n",
       "      <td>78.1</td>\n",
       "      <td>1704</td>\n",
       "    </tr>\n",
       "    <tr>\n",
       "      <th>1</th>\n",
       "      <td>02-04-2016 00:00</td>\n",
       "      <td>55.0</td>\n",
       "      <td>827</td>\n",
       "    </tr>\n",
       "    <tr>\n",
       "      <th>2</th>\n",
       "      <td>03-04-2016 00:00</td>\n",
       "      <td>39.9</td>\n",
       "      <td>526</td>\n",
       "    </tr>\n",
       "    <tr>\n",
       "      <th>3</th>\n",
       "      <td>04-04-2016 00:00</td>\n",
       "      <td>44.1</td>\n",
       "      <td>521</td>\n",
       "    </tr>\n",
       "    <tr>\n",
       "      <th>4</th>\n",
       "      <td>05-04-2016 00:00</td>\n",
       "      <td>42.1</td>\n",
       "      <td>1416</td>\n",
       "    </tr>\n",
       "    <tr>\n",
       "      <th>...</th>\n",
       "      <td>...</td>\n",
       "      <td>...</td>\n",
       "      <td>...</td>\n",
       "    </tr>\n",
       "    <tr>\n",
       "      <th>205</th>\n",
       "      <td>26-04-2016 00:00</td>\n",
       "      <td>60.1</td>\n",
       "      <td>1997</td>\n",
       "    </tr>\n",
       "    <tr>\n",
       "      <th>206</th>\n",
       "      <td>27-04-2016 00:00</td>\n",
       "      <td>62.1</td>\n",
       "      <td>3343</td>\n",
       "    </tr>\n",
       "    <tr>\n",
       "      <th>207</th>\n",
       "      <td>28-04-2016 00:00</td>\n",
       "      <td>57.9</td>\n",
       "      <td>2486</td>\n",
       "    </tr>\n",
       "    <tr>\n",
       "      <th>208</th>\n",
       "      <td>29-04-2016 00:00</td>\n",
       "      <td>57.0</td>\n",
       "      <td>2375</td>\n",
       "    </tr>\n",
       "    <tr>\n",
       "      <th>209</th>\n",
       "      <td>30-04-2016 00:00</td>\n",
       "      <td>64.0</td>\n",
       "      <td>3199</td>\n",
       "    </tr>\n",
       "  </tbody>\n",
       "</table>\n",
       "<p>210 rows × 3 columns</p>\n",
       "</div>"
      ],
      "text/plain": [
       "                 Date  High Temp (°F)  Brooklyn Bridge\n",
       "0    01-04-2016 00:00            78.1             1704\n",
       "1    02-04-2016 00:00            55.0              827\n",
       "2    03-04-2016 00:00            39.9              526\n",
       "3    04-04-2016 00:00            44.1              521\n",
       "4    05-04-2016 00:00            42.1             1416\n",
       "..                ...             ...              ...\n",
       "205  26-04-2016 00:00            60.1             1997\n",
       "206  27-04-2016 00:00            62.1             3343\n",
       "207  28-04-2016 00:00            57.9             2486\n",
       "208  29-04-2016 00:00            57.0             2375\n",
       "209  30-04-2016 00:00            64.0             3199\n",
       "\n",
       "[210 rows x 3 columns]"
      ]
     },
     "execution_count": 38,
     "metadata": {},
     "output_type": "execute_result"
    }
   ],
   "source": [
    "Brooklyn"
   ]
  },
  {
   "cell_type": "code",
   "execution_count": 39,
   "id": "fbd6734a",
   "metadata": {},
   "outputs": [
    {
     "data": {
      "text/plain": [
       "210"
      ]
     },
     "execution_count": 39,
     "metadata": {},
     "output_type": "execute_result"
    }
   ],
   "source": [
    "len(Brooklyn)"
   ]
  },
  {
   "cell_type": "code",
   "execution_count": 18,
   "id": "80a3275a",
   "metadata": {},
   "outputs": [],
   "source": [
    "Brooklyn=Data[['Date','High Temp (°F)','Brooklyn Bridge']].head(10)"
   ]
  },
  {
   "cell_type": "code",
   "execution_count": 21,
   "id": "1422296e",
   "metadata": {},
   "outputs": [
    {
     "data": {
      "text/plain": [
       "<AxesSubplot:xlabel='Brooklyn Bridge', ylabel='High Temp (°F)'>"
      ]
     },
     "execution_count": 21,
     "metadata": {},
     "output_type": "execute_result"
    },
    {
     "data": {
      "image/png": "[encoded data removed]",
      "text/plain": [
       "<Figure size 640x480 with 1 Axes>"
      ]
     },
     "metadata": {},
     "output_type": "display_data"
    }
   ],
   "source": [
    "sns.barplot(data=Brooklyn, x=\"Brooklyn Bridge\"   , y=\"High Temp (°F)\")"
   ]
  },
  {
   "cell_type": "code",
   "execution_count": 22,
   "id": "a203cd1d",
   "metadata": {},
   "outputs": [
    {
     "data": {
      "text/html": [
       "<div>\n",
       "<style scoped>\n",
       "    .dataframe tbody tr th:only-of-type {\n",
       "        vertical-align: middle;\n",
       "    }\n",
       "\n",
       "    .dataframe tbody tr th {\n",
       "        vertical-align: top;\n",
       "    }\n",
       "\n",
       "    .dataframe thead th {\n",
       "        text-align: right;\n",
       "    }\n",
       "</style>\n",
       "<table border=\"1\" class=\"dataframe\">\n",
       "  <thead>\n",
       "    <tr style=\"text-align: right;\">\n",
       "      <th></th>\n",
       "      <th>High Temp (°F)</th>\n",
       "      <th>Brooklyn Bridge</th>\n",
       "    </tr>\n",
       "  </thead>\n",
       "  <tbody>\n",
       "    <tr>\n",
       "      <th>High Temp (°F)</th>\n",
       "      <td>1.000000</td>\n",
       "      <td>0.353376</td>\n",
       "    </tr>\n",
       "    <tr>\n",
       "      <th>Brooklyn Bridge</th>\n",
       "      <td>0.353376</td>\n",
       "      <td>1.000000</td>\n",
       "    </tr>\n",
       "  </tbody>\n",
       "</table>\n",
       "</div>"
      ],
      "text/plain": [
       "                 High Temp (°F)  Brooklyn Bridge\n",
       "High Temp (°F)         1.000000         0.353376\n",
       "Brooklyn Bridge        0.353376         1.000000"
      ]
     },
     "execution_count": 22,
     "metadata": {},
     "output_type": "execute_result"
    }
   ],
   "source": [
    "Brooklyn.corr()"
   ]
  },
  {
   "cell_type": "code",
   "execution_count": 23,
   "id": "1822dbe6",
   "metadata": {},
   "outputs": [],
   "source": [
    "cor=Brooklyn.corr()"
   ]
  },
  {
   "cell_type": "code",
   "execution_count": 24,
   "id": "491e3b0e",
   "metadata": {},
   "outputs": [
    {
     "data": {
      "text/plain": [
       "<AxesSubplot:>"
      ]
     },
     "execution_count": 24,
     "metadata": {},
     "output_type": "execute_result"
    },
    {
     "data": {
      "image/png": "[encoded data removed]",
      "text/plain": [
       "<Figure size 640x480 with 2 Axes>"
      ]
     },
     "metadata": {},
     "output_type": "display_data"
    }
   ],
   "source": [
    "sns.heatmap(cor)\n"
   ]
  },
  {
   "cell_type": "code",
   "execution_count": null,
   "id": "15cfc398",
   "metadata": {},
   "outputs": [],
   "source": [
    "#Manhattan Bridge"
   ]
  },
  {
   "cell_type": "code",
   "execution_count": 65,
   "id": "6878a2a0",
   "metadata": {},
   "outputs": [
    {
     "data": {
      "text/html": [
       "<div>\n",
       "<style scoped>\n",
       "    .dataframe tbody tr th:only-of-type {\n",
       "        vertical-align: middle;\n",
       "    }\n",
       "\n",
       "    .dataframe tbody tr th {\n",
       "        vertical-align: top;\n",
       "    }\n",
       "\n",
       "    .dataframe thead th {\n",
       "        text-align: right;\n",
       "    }\n",
       "</style>\n",
       "<table border=\"1\" class=\"dataframe\">\n",
       "  <thead>\n",
       "    <tr style=\"text-align: right;\">\n",
       "      <th></th>\n",
       "      <th>Date</th>\n",
       "      <th>High Temp (°F)</th>\n",
       "      <th>Manhattan Bridge</th>\n",
       "    </tr>\n",
       "  </thead>\n",
       "  <tbody>\n",
       "    <tr>\n",
       "      <th>0</th>\n",
       "      <td>01-04-2016 00:00</td>\n",
       "      <td>78.1</td>\n",
       "      <td>3126</td>\n",
       "    </tr>\n",
       "    <tr>\n",
       "      <th>1</th>\n",
       "      <td>02-04-2016 00:00</td>\n",
       "      <td>55.0</td>\n",
       "      <td>1646</td>\n",
       "    </tr>\n",
       "    <tr>\n",
       "      <th>2</th>\n",
       "      <td>03-04-2016 00:00</td>\n",
       "      <td>39.9</td>\n",
       "      <td>1232</td>\n",
       "    </tr>\n",
       "    <tr>\n",
       "      <th>3</th>\n",
       "      <td>04-04-2016 00:00</td>\n",
       "      <td>44.1</td>\n",
       "      <td>1067</td>\n",
       "    </tr>\n",
       "    <tr>\n",
       "      <th>4</th>\n",
       "      <td>05-04-2016 00:00</td>\n",
       "      <td>42.1</td>\n",
       "      <td>2617</td>\n",
       "    </tr>\n",
       "    <tr>\n",
       "      <th>...</th>\n",
       "      <td>...</td>\n",
       "      <td>...</td>\n",
       "      <td>...</td>\n",
       "    </tr>\n",
       "    <tr>\n",
       "      <th>205</th>\n",
       "      <td>26-04-2016 00:00</td>\n",
       "      <td>60.1</td>\n",
       "      <td>3520</td>\n",
       "    </tr>\n",
       "    <tr>\n",
       "      <th>206</th>\n",
       "      <td>27-04-2016 00:00</td>\n",
       "      <td>62.1</td>\n",
       "      <td>5606</td>\n",
       "    </tr>\n",
       "    <tr>\n",
       "      <th>207</th>\n",
       "      <td>28-04-2016 00:00</td>\n",
       "      <td>57.9</td>\n",
       "      <td>4152</td>\n",
       "    </tr>\n",
       "    <tr>\n",
       "      <th>208</th>\n",
       "      <td>29-04-2016 00:00</td>\n",
       "      <td>57.0</td>\n",
       "      <td>4178</td>\n",
       "    </tr>\n",
       "    <tr>\n",
       "      <th>209</th>\n",
       "      <td>30-04-2016 00:00</td>\n",
       "      <td>64.0</td>\n",
       "      <td>4952</td>\n",
       "    </tr>\n",
       "  </tbody>\n",
       "</table>\n",
       "<p>210 rows × 3 columns</p>\n",
       "</div>"
      ],
      "text/plain": [
       "                 Date  High Temp (°F)  Manhattan Bridge\n",
       "0    01-04-2016 00:00            78.1              3126\n",
       "1    02-04-2016 00:00            55.0              1646\n",
       "2    03-04-2016 00:00            39.9              1232\n",
       "3    04-04-2016 00:00            44.1              1067\n",
       "4    05-04-2016 00:00            42.1              2617\n",
       "..                ...             ...               ...\n",
       "205  26-04-2016 00:00            60.1              3520\n",
       "206  27-04-2016 00:00            62.1              5606\n",
       "207  28-04-2016 00:00            57.9              4152\n",
       "208  29-04-2016 00:00            57.0              4178\n",
       "209  30-04-2016 00:00            64.0              4952\n",
       "\n",
       "[210 rows x 3 columns]"
      ]
     },
     "execution_count": 65,
     "metadata": {},
     "output_type": "execute_result"
    }
   ],
   "source": [
    " Data[['Date','High Temp (°F)','Manhattan Bridge']]"
   ]
  },
  {
   "cell_type": "code",
   "execution_count": null,
   "id": "43481ccd",
   "metadata": {},
   "outputs": [],
   "source": [
    "##Maximum Daily Bicycle Ridership is turned out to be 6951  on 21/04/2016\n",
    "#That means 290 bicycle riders per hour,  have crossed the Manhattan Bridge.\n",
    "# 5 rider/min had crossed the bridge on that day.\n",
    "# The length of Manhattan Bridge is 2089m.\n",
    "#  The Average distances between the bicycles on bridge.\n",
    "#The Average High temprature which the riders have faced was 71°F."
   ]
  },
  {
   "cell_type": "code",
   "execution_count": 54,
   "id": "4d546c58",
   "metadata": {},
   "outputs": [
    {
     "data": {
      "text/plain": [
       "Date                21-04-2016 00:00\n",
       "High Temp (°F)                  71.1\n",
       "Low Temp (°F)                   50.0\n",
       "Precipitation                      0\n",
       "Brooklyn Bridge                 3436\n",
       "Manhattan Bridge                6452\n",
       "Name: 80, dtype: object"
      ]
     },
     "execution_count": 54,
     "metadata": {},
     "output_type": "execute_result"
    }
   ],
   "source": [
    "##Maximum Daily Bicycle Ridership is turned out to be 6951  on 21/04/2016\n",
    "\n",
    "Data.loc[80,'Date':'Manhattan Bridge']"
   ]
  },
  {
   "cell_type": "code",
   "execution_count": 112,
   "id": "ba275b19",
   "metadata": {},
   "outputs": [
    {
     "name": "stderr",
     "output_type": "stream",
     "text": [
      "C:\\Users\\rohit\\AppData\\Local\\Temp\\ipykernel_14708\\4124079392.py:1: FutureWarning: Dropping of nuisance columns in DataFrame reductions (with 'numeric_only=None') is deprecated; in a future version this will raise TypeError.  Select only valid columns before calling the reduction.\n",
      "  Data[['Date','High Temp (°F)','Manhattan Bridge']].mean()\n"
     ]
    },
    {
     "data": {
      "text/plain": [
       "High Temp (°F)        60.580000\n",
       "Manhattan Bridge    4049.533333\n",
       "dtype: float64"
      ]
     },
     "execution_count": 112,
     "metadata": {},
     "output_type": "execute_result"
    }
   ],
   "source": [
    "Data[['Date','High Temp (°F)','Manhattan Bridge']].mean()"
   ]
  },
  {
   "cell_type": "code",
   "execution_count": null,
   "id": "a28d42b9",
   "metadata": {},
   "outputs": [],
   "source": [
    "#The Average Bicycle Rider crossing the Manhattan Bridge is found out to be 4050.\n",
    "# The Average Bicycle Rider crossing the Manhattan Bridge per hour is found out to be 169.\n",
    "# On an Average day 3 bicycles passes the bridge per min \n",
    "# The Average High Temp fell by an rider is 60.5°F.\n",
    "# The Average distances between the bicycles on bridge is 696.33m"
   ]
  },
  {
   "cell_type": "code",
   "execution_count": 56,
   "id": "471cf210",
   "metadata": {},
   "outputs": [],
   "source": [
    "Manhattan=Data[['Date','High Temp (°F)','Manhattan Bridge']]"
   ]
  },
  {
   "cell_type": "code",
   "execution_count": 57,
   "id": "b798ba7b",
   "metadata": {},
   "outputs": [
    {
     "data": {
      "text/html": [
       "<div>\n",
       "<style scoped>\n",
       "    .dataframe tbody tr th:only-of-type {\n",
       "        vertical-align: middle;\n",
       "    }\n",
       "\n",
       "    .dataframe tbody tr th {\n",
       "        vertical-align: top;\n",
       "    }\n",
       "\n",
       "    .dataframe thead th {\n",
       "        text-align: right;\n",
       "    }\n",
       "</style>\n",
       "<table border=\"1\" class=\"dataframe\">\n",
       "  <thead>\n",
       "    <tr style=\"text-align: right;\">\n",
       "      <th></th>\n",
       "      <th>Date</th>\n",
       "      <th>High Temp (°F)</th>\n",
       "      <th>Manhattan Bridge</th>\n",
       "    </tr>\n",
       "  </thead>\n",
       "  <tbody>\n",
       "    <tr>\n",
       "      <th>0</th>\n",
       "      <td>01-04-2016 00:00</td>\n",
       "      <td>78.1</td>\n",
       "      <td>3126</td>\n",
       "    </tr>\n",
       "    <tr>\n",
       "      <th>1</th>\n",
       "      <td>02-04-2016 00:00</td>\n",
       "      <td>55.0</td>\n",
       "      <td>1646</td>\n",
       "    </tr>\n",
       "    <tr>\n",
       "      <th>2</th>\n",
       "      <td>03-04-2016 00:00</td>\n",
       "      <td>39.9</td>\n",
       "      <td>1232</td>\n",
       "    </tr>\n",
       "    <tr>\n",
       "      <th>3</th>\n",
       "      <td>04-04-2016 00:00</td>\n",
       "      <td>44.1</td>\n",
       "      <td>1067</td>\n",
       "    </tr>\n",
       "    <tr>\n",
       "      <th>4</th>\n",
       "      <td>05-04-2016 00:00</td>\n",
       "      <td>42.1</td>\n",
       "      <td>2617</td>\n",
       "    </tr>\n",
       "    <tr>\n",
       "      <th>...</th>\n",
       "      <td>...</td>\n",
       "      <td>...</td>\n",
       "      <td>...</td>\n",
       "    </tr>\n",
       "    <tr>\n",
       "      <th>205</th>\n",
       "      <td>26-04-2016 00:00</td>\n",
       "      <td>60.1</td>\n",
       "      <td>3520</td>\n",
       "    </tr>\n",
       "    <tr>\n",
       "      <th>206</th>\n",
       "      <td>27-04-2016 00:00</td>\n",
       "      <td>62.1</td>\n",
       "      <td>5606</td>\n",
       "    </tr>\n",
       "    <tr>\n",
       "      <th>207</th>\n",
       "      <td>28-04-2016 00:00</td>\n",
       "      <td>57.9</td>\n",
       "      <td>4152</td>\n",
       "    </tr>\n",
       "    <tr>\n",
       "      <th>208</th>\n",
       "      <td>29-04-2016 00:00</td>\n",
       "      <td>57.0</td>\n",
       "      <td>4178</td>\n",
       "    </tr>\n",
       "    <tr>\n",
       "      <th>209</th>\n",
       "      <td>30-04-2016 00:00</td>\n",
       "      <td>64.0</td>\n",
       "      <td>4952</td>\n",
       "    </tr>\n",
       "  </tbody>\n",
       "</table>\n",
       "<p>210 rows × 3 columns</p>\n",
       "</div>"
      ],
      "text/plain": [
       "                 Date  High Temp (°F)  Manhattan Bridge\n",
       "0    01-04-2016 00:00            78.1              3126\n",
       "1    02-04-2016 00:00            55.0              1646\n",
       "2    03-04-2016 00:00            39.9              1232\n",
       "3    04-04-2016 00:00            44.1              1067\n",
       "4    05-04-2016 00:00            42.1              2617\n",
       "..                ...             ...               ...\n",
       "205  26-04-2016 00:00            60.1              3520\n",
       "206  27-04-2016 00:00            62.1              5606\n",
       "207  28-04-2016 00:00            57.9              4152\n",
       "208  29-04-2016 00:00            57.0              4178\n",
       "209  30-04-2016 00:00            64.0              4952\n",
       "\n",
       "[210 rows x 3 columns]"
      ]
     },
     "execution_count": 57,
     "metadata": {},
     "output_type": "execute_result"
    }
   ],
   "source": [
    "Manhattan"
   ]
  },
  {
   "cell_type": "code",
   "execution_count": 58,
   "id": "8774c4c4",
   "metadata": {},
   "outputs": [],
   "source": [
    "Manhattan=Data[['Date','High Temp (°F)','Manhattan Bridge']].head(10)"
   ]
  },
  {
   "cell_type": "code",
   "execution_count": 59,
   "id": "e0fd1d2f",
   "metadata": {},
   "outputs": [
    {
     "data": {
      "text/html": [
       "<div>\n",
       "<style scoped>\n",
       "    .dataframe tbody tr th:only-of-type {\n",
       "        vertical-align: middle;\n",
       "    }\n",
       "\n",
       "    .dataframe tbody tr th {\n",
       "        vertical-align: top;\n",
       "    }\n",
       "\n",
       "    .dataframe thead th {\n",
       "        text-align: right;\n",
       "    }\n",
       "</style>\n",
       "<table border=\"1\" class=\"dataframe\">\n",
       "  <thead>\n",
       "    <tr style=\"text-align: right;\">\n",
       "      <th></th>\n",
       "      <th>Date</th>\n",
       "      <th>High Temp (°F)</th>\n",
       "      <th>Manhattan Bridge</th>\n",
       "    </tr>\n",
       "  </thead>\n",
       "  <tbody>\n",
       "    <tr>\n",
       "      <th>0</th>\n",
       "      <td>01-04-2016 00:00</td>\n",
       "      <td>78.1</td>\n",
       "      <td>3126</td>\n",
       "    </tr>\n",
       "    <tr>\n",
       "      <th>1</th>\n",
       "      <td>02-04-2016 00:00</td>\n",
       "      <td>55.0</td>\n",
       "      <td>1646</td>\n",
       "    </tr>\n",
       "    <tr>\n",
       "      <th>2</th>\n",
       "      <td>03-04-2016 00:00</td>\n",
       "      <td>39.9</td>\n",
       "      <td>1232</td>\n",
       "    </tr>\n",
       "    <tr>\n",
       "      <th>3</th>\n",
       "      <td>04-04-2016 00:00</td>\n",
       "      <td>44.1</td>\n",
       "      <td>1067</td>\n",
       "    </tr>\n",
       "    <tr>\n",
       "      <th>4</th>\n",
       "      <td>05-04-2016 00:00</td>\n",
       "      <td>42.1</td>\n",
       "      <td>2617</td>\n",
       "    </tr>\n",
       "    <tr>\n",
       "      <th>5</th>\n",
       "      <td>06-04-2016 00:00</td>\n",
       "      <td>45.0</td>\n",
       "      <td>3329</td>\n",
       "    </tr>\n",
       "    <tr>\n",
       "      <th>6</th>\n",
       "      <td>07-04-2016 00:00</td>\n",
       "      <td>57.0</td>\n",
       "      <td>2581</td>\n",
       "    </tr>\n",
       "    <tr>\n",
       "      <th>7</th>\n",
       "      <td>08-04-2016 00:00</td>\n",
       "      <td>46.9</td>\n",
       "      <td>3455</td>\n",
       "    </tr>\n",
       "    <tr>\n",
       "      <th>8</th>\n",
       "      <td>09-04-2016 00:00</td>\n",
       "      <td>43.0</td>\n",
       "      <td>997</td>\n",
       "    </tr>\n",
       "    <tr>\n",
       "      <th>9</th>\n",
       "      <td>10-04-2016 00:00</td>\n",
       "      <td>48.9</td>\n",
       "      <td>2387</td>\n",
       "    </tr>\n",
       "  </tbody>\n",
       "</table>\n",
       "</div>"
      ],
      "text/plain": [
       "               Date  High Temp (°F)  Manhattan Bridge\n",
       "0  01-04-2016 00:00            78.1              3126\n",
       "1  02-04-2016 00:00            55.0              1646\n",
       "2  03-04-2016 00:00            39.9              1232\n",
       "3  04-04-2016 00:00            44.1              1067\n",
       "4  05-04-2016 00:00            42.1              2617\n",
       "5  06-04-2016 00:00            45.0              3329\n",
       "6  07-04-2016 00:00            57.0              2581\n",
       "7  08-04-2016 00:00            46.9              3455\n",
       "8  09-04-2016 00:00            43.0               997\n",
       "9  10-04-2016 00:00            48.9              2387"
      ]
     },
     "execution_count": 59,
     "metadata": {},
     "output_type": "execute_result"
    }
   ],
   "source": [
    "Manhattan"
   ]
  },
  {
   "cell_type": "code",
   "execution_count": 60,
   "id": "3ccc525a",
   "metadata": {},
   "outputs": [
    {
     "data": {
      "text/plain": [
       "<AxesSubplot:xlabel='Manhattan Bridge', ylabel='High Temp (°F)'>"
      ]
     },
     "execution_count": 60,
     "metadata": {},
     "output_type": "execute_result"
    },
    {
     "data": {
      "image/png": "[encoded data removed]",
      "text/plain": [
       "<Figure size 640x480 with 1 Axes>"
      ]
     },
     "metadata": {},
     "output_type": "display_data"
    }
   ],
   "source": [
    "sns.barplot(data=Manhattan, x=\"Manhattan Bridge\"   , y=\"High Temp (°F)\")"
   ]
  },
  {
   "cell_type": "code",
   "execution_count": 62,
   "id": "7f5ba84c",
   "metadata": {},
   "outputs": [
    {
     "data": {
      "text/html": [
       "<div>\n",
       "<style scoped>\n",
       "    .dataframe tbody tr th:only-of-type {\n",
       "        vertical-align: middle;\n",
       "    }\n",
       "\n",
       "    .dataframe tbody tr th {\n",
       "        vertical-align: top;\n",
       "    }\n",
       "\n",
       "    .dataframe thead th {\n",
       "        text-align: right;\n",
       "    }\n",
       "</style>\n",
       "<table border=\"1\" class=\"dataframe\">\n",
       "  <thead>\n",
       "    <tr style=\"text-align: right;\">\n",
       "      <th></th>\n",
       "      <th>High Temp (°F)</th>\n",
       "      <th>Manhattan Bridge</th>\n",
       "    </tr>\n",
       "  </thead>\n",
       "  <tbody>\n",
       "    <tr>\n",
       "      <th>High Temp (°F)</th>\n",
       "      <td>1.000000</td>\n",
       "      <td>0.393709</td>\n",
       "    </tr>\n",
       "    <tr>\n",
       "      <th>Manhattan Bridge</th>\n",
       "      <td>0.393709</td>\n",
       "      <td>1.000000</td>\n",
       "    </tr>\n",
       "  </tbody>\n",
       "</table>\n",
       "</div>"
      ],
      "text/plain": [
       "                  High Temp (°F)  Manhattan Bridge\n",
       "High Temp (°F)          1.000000          0.393709\n",
       "Manhattan Bridge        0.393709          1.000000"
      ]
     },
     "execution_count": 62,
     "metadata": {},
     "output_type": "execute_result"
    }
   ],
   "source": [
    "Manhattan.corr()"
   ]
  },
  {
   "cell_type": "code",
   "execution_count": 63,
   "id": "f6641b11",
   "metadata": {},
   "outputs": [],
   "source": [
    "cor=Manhattan.corr()"
   ]
  },
  {
   "cell_type": "code",
   "execution_count": 64,
   "id": "29bc766e",
   "metadata": {},
   "outputs": [
    {
     "data": {
      "text/plain": [
       "<AxesSubplot:>"
      ]
     },
     "execution_count": 64,
     "metadata": {},
     "output_type": "execute_result"
    },
    {
     "data": {
      "image/png": "[encoded data removed]",
      "text/plain": [
       "<Figure size 640x480 with 2 Axes>"
      ]
     },
     "metadata": {},
     "output_type": "display_data"
    }
   ],
   "source": [
    "sns.heatmap(cor)"
   ]
  },
  {
   "cell_type": "code",
   "execution_count": null,
   "id": "1492a266",
   "metadata": {},
   "outputs": [],
   "source": [
    "#Williamsburg Bridge"
   ]
  },
  {
   "cell_type": "code",
   "execution_count": 67,
   "id": "7ef290f4",
   "metadata": {},
   "outputs": [
    {
     "data": {
      "text/html": [
       "<div>\n",
       "<style scoped>\n",
       "    .dataframe tbody tr th:only-of-type {\n",
       "        vertical-align: middle;\n",
       "    }\n",
       "\n",
       "    .dataframe tbody tr th {\n",
       "        vertical-align: top;\n",
       "    }\n",
       "\n",
       "    .dataframe thead th {\n",
       "        text-align: right;\n",
       "    }\n",
       "</style>\n",
       "<table border=\"1\" class=\"dataframe\">\n",
       "  <thead>\n",
       "    <tr style=\"text-align: right;\">\n",
       "      <th></th>\n",
       "      <th>Date</th>\n",
       "      <th>High Temp (°F)</th>\n",
       "      <th>Williamsburg Bridge</th>\n",
       "    </tr>\n",
       "  </thead>\n",
       "  <tbody>\n",
       "    <tr>\n",
       "      <th>0</th>\n",
       "      <td>01-04-2016 00:00</td>\n",
       "      <td>78.1</td>\n",
       "      <td>4115</td>\n",
       "    </tr>\n",
       "    <tr>\n",
       "      <th>1</th>\n",
       "      <td>02-04-2016 00:00</td>\n",
       "      <td>55.0</td>\n",
       "      <td>2565</td>\n",
       "    </tr>\n",
       "    <tr>\n",
       "      <th>2</th>\n",
       "      <td>03-04-2016 00:00</td>\n",
       "      <td>39.9</td>\n",
       "      <td>1695</td>\n",
       "    </tr>\n",
       "    <tr>\n",
       "      <th>3</th>\n",
       "      <td>04-04-2016 00:00</td>\n",
       "      <td>44.1</td>\n",
       "      <td>1440</td>\n",
       "    </tr>\n",
       "    <tr>\n",
       "      <th>4</th>\n",
       "      <td>05-04-2016 00:00</td>\n",
       "      <td>42.1</td>\n",
       "      <td>3081</td>\n",
       "    </tr>\n",
       "    <tr>\n",
       "      <th>...</th>\n",
       "      <td>...</td>\n",
       "      <td>...</td>\n",
       "      <td>...</td>\n",
       "    </tr>\n",
       "    <tr>\n",
       "      <th>205</th>\n",
       "      <td>26-04-2016 00:00</td>\n",
       "      <td>60.1</td>\n",
       "      <td>4559</td>\n",
       "    </tr>\n",
       "    <tr>\n",
       "      <th>206</th>\n",
       "      <td>27-04-2016 00:00</td>\n",
       "      <td>62.1</td>\n",
       "      <td>6577</td>\n",
       "    </tr>\n",
       "    <tr>\n",
       "      <th>207</th>\n",
       "      <td>28-04-2016 00:00</td>\n",
       "      <td>57.9</td>\n",
       "      <td>5336</td>\n",
       "    </tr>\n",
       "    <tr>\n",
       "      <th>208</th>\n",
       "      <td>29-04-2016 00:00</td>\n",
       "      <td>57.0</td>\n",
       "      <td>5053</td>\n",
       "    </tr>\n",
       "    <tr>\n",
       "      <th>209</th>\n",
       "      <td>30-04-2016 00:00</td>\n",
       "      <td>64.0</td>\n",
       "      <td>5675</td>\n",
       "    </tr>\n",
       "  </tbody>\n",
       "</table>\n",
       "<p>210 rows × 3 columns</p>\n",
       "</div>"
      ],
      "text/plain": [
       "                 Date  High Temp (°F)  Williamsburg Bridge\n",
       "0    01-04-2016 00:00            78.1                 4115\n",
       "1    02-04-2016 00:00            55.0                 2565\n",
       "2    03-04-2016 00:00            39.9                 1695\n",
       "3    04-04-2016 00:00            44.1                 1440\n",
       "4    05-04-2016 00:00            42.1                 3081\n",
       "..                ...             ...                  ...\n",
       "205  26-04-2016 00:00            60.1                 4559\n",
       "206  27-04-2016 00:00            62.1                 6577\n",
       "207  28-04-2016 00:00            57.9                 5336\n",
       "208  29-04-2016 00:00            57.0                 5053\n",
       "209  30-04-2016 00:00            64.0                 5675\n",
       "\n",
       "[210 rows x 3 columns]"
      ]
     },
     "execution_count": 67,
     "metadata": {},
     "output_type": "execute_result"
    }
   ],
   "source": [
    "Data[['Date','High Temp (°F)','Williamsburg Bridge']]"
   ]
  },
  {
   "cell_type": "code",
   "execution_count": 68,
   "id": "0970b76e",
   "metadata": {},
   "outputs": [
    {
     "data": {
      "text/plain": [
       "Date                   21-04-2016 00:00\n",
       "High Temp (°F)                     71.1\n",
       "Low Temp (°F)                      50.0\n",
       "Precipitation                         0\n",
       "Brooklyn Bridge                    3436\n",
       "Manhattan Bridge                   6452\n",
       "Williamsburg Bridge                7426\n",
       "Name: 20, dtype: object"
      ]
     },
     "execution_count": 68,
     "metadata": {},
     "output_type": "execute_result"
    }
   ],
   "source": [
    "##Maximum Daily Bicycle Ridership is turned out to be 7426 on 21/04/2016\n",
    "# The 310 bicycle riders have passed per hour from Williamsburg Bridge on 21st April.\n",
    "#ie. 6 riders per minute.\n",
    "# The total length of Williamsburg Birdge is 2227m.\n",
    "# The distance between the riders during crossing the bridge was 371.16m.\n",
    "#With 71.1°F High Temperature on that day.\n",
    "\n",
    "Data.loc[20,'Date':'Williamsburg Bridge']"
   ]
  },
  {
   "cell_type": "code",
   "execution_count": 114,
   "id": "bab53f3b",
   "metadata": {},
   "outputs": [
    {
     "name": "stderr",
     "output_type": "stream",
     "text": [
      "C:\\Users\\rohit\\AppData\\Local\\Temp\\ipykernel_14708\\1907681715.py:1: FutureWarning: Dropping of nuisance columns in DataFrame reductions (with 'numeric_only=None') is deprecated; in a future version this will raise TypeError.  Select only valid columns before calling the reduction.\n",
      "  Data[['Date','High Temp (°F)','Williamsburg Bridge']].mean()\n"
     ]
    },
    {
     "data": {
      "text/plain": [
       "High Temp (°F)           60.580000\n",
       "Williamsburg Bridge    4862.466667\n",
       "dtype: float64"
      ]
     },
     "execution_count": 114,
     "metadata": {},
     "output_type": "execute_result"
    }
   ],
   "source": [
    "Data[['Date','High Temp (°F)','Williamsburg Bridge']].mean()"
   ]
  },
  {
   "cell_type": "code",
   "execution_count": null,
   "id": "9b1358aa",
   "metadata": {},
   "outputs": [],
   "source": [
    "# On an Average 4863 riders cross the Williamsburg bridge a day.\n",
    "#ie. 203 riders/hr & 4riders/min.\n",
    "#With the average High temperature of 60.58°F."
   ]
  },
  {
   "cell_type": "code",
   "execution_count": 69,
   "id": "c4a0d1ce",
   "metadata": {},
   "outputs": [],
   "source": [
    "Williamsburg=Data[['Date','High Temp (°F)','Williamsburg Bridge']].head(10)"
   ]
  },
  {
   "cell_type": "code",
   "execution_count": 70,
   "id": "cc4e1a3b",
   "metadata": {},
   "outputs": [
    {
     "data": {
      "text/html": [
       "<div>\n",
       "<style scoped>\n",
       "    .dataframe tbody tr th:only-of-type {\n",
       "        vertical-align: middle;\n",
       "    }\n",
       "\n",
       "    .dataframe tbody tr th {\n",
       "        vertical-align: top;\n",
       "    }\n",
       "\n",
       "    .dataframe thead th {\n",
       "        text-align: right;\n",
       "    }\n",
       "</style>\n",
       "<table border=\"1\" class=\"dataframe\">\n",
       "  <thead>\n",
       "    <tr style=\"text-align: right;\">\n",
       "      <th></th>\n",
       "      <th>Date</th>\n",
       "      <th>High Temp (°F)</th>\n",
       "      <th>Williamsburg Bridge</th>\n",
       "    </tr>\n",
       "  </thead>\n",
       "  <tbody>\n",
       "    <tr>\n",
       "      <th>0</th>\n",
       "      <td>01-04-2016 00:00</td>\n",
       "      <td>78.1</td>\n",
       "      <td>4115</td>\n",
       "    </tr>\n",
       "    <tr>\n",
       "      <th>1</th>\n",
       "      <td>02-04-2016 00:00</td>\n",
       "      <td>55.0</td>\n",
       "      <td>2565</td>\n",
       "    </tr>\n",
       "    <tr>\n",
       "      <th>2</th>\n",
       "      <td>03-04-2016 00:00</td>\n",
       "      <td>39.9</td>\n",
       "      <td>1695</td>\n",
       "    </tr>\n",
       "    <tr>\n",
       "      <th>3</th>\n",
       "      <td>04-04-2016 00:00</td>\n",
       "      <td>44.1</td>\n",
       "      <td>1440</td>\n",
       "    </tr>\n",
       "    <tr>\n",
       "      <th>4</th>\n",
       "      <td>05-04-2016 00:00</td>\n",
       "      <td>42.1</td>\n",
       "      <td>3081</td>\n",
       "    </tr>\n",
       "    <tr>\n",
       "      <th>5</th>\n",
       "      <td>06-04-2016 00:00</td>\n",
       "      <td>45.0</td>\n",
       "      <td>3856</td>\n",
       "    </tr>\n",
       "    <tr>\n",
       "      <th>6</th>\n",
       "      <td>07-04-2016 00:00</td>\n",
       "      <td>57.0</td>\n",
       "      <td>3282</td>\n",
       "    </tr>\n",
       "    <tr>\n",
       "      <th>7</th>\n",
       "      <td>08-04-2016 00:00</td>\n",
       "      <td>46.9</td>\n",
       "      <td>4113</td>\n",
       "    </tr>\n",
       "    <tr>\n",
       "      <th>8</th>\n",
       "      <td>09-04-2016 00:00</td>\n",
       "      <td>43.0</td>\n",
       "      <td>1507</td>\n",
       "    </tr>\n",
       "    <tr>\n",
       "      <th>9</th>\n",
       "      <td>10-04-2016 00:00</td>\n",
       "      <td>48.9</td>\n",
       "      <td>3132</td>\n",
       "    </tr>\n",
       "  </tbody>\n",
       "</table>\n",
       "</div>"
      ],
      "text/plain": [
       "               Date  High Temp (°F)  Williamsburg Bridge\n",
       "0  01-04-2016 00:00            78.1                 4115\n",
       "1  02-04-2016 00:00            55.0                 2565\n",
       "2  03-04-2016 00:00            39.9                 1695\n",
       "3  04-04-2016 00:00            44.1                 1440\n",
       "4  05-04-2016 00:00            42.1                 3081\n",
       "5  06-04-2016 00:00            45.0                 3856\n",
       "6  07-04-2016 00:00            57.0                 3282\n",
       "7  08-04-2016 00:00            46.9                 4113\n",
       "8  09-04-2016 00:00            43.0                 1507\n",
       "9  10-04-2016 00:00            48.9                 3132"
      ]
     },
     "execution_count": 70,
     "metadata": {},
     "output_type": "execute_result"
    }
   ],
   "source": [
    "Williamsburg"
   ]
  },
  {
   "cell_type": "code",
   "execution_count": 71,
   "id": "c455ca31",
   "metadata": {},
   "outputs": [
    {
     "data": {
      "text/plain": [
       "<AxesSubplot:xlabel='Williamsburg Bridge', ylabel='High Temp (°F)'>"
      ]
     },
     "execution_count": 71,
     "metadata": {},
     "output_type": "execute_result"
    },
    {
     "data": {
      "image/png": "[encoded data removed]",
      "text/plain": [
       "<Figure size 640x480 with 1 Axes>"
      ]
     },
     "metadata": {},
     "output_type": "display_data"
    }
   ],
   "source": [
    "sns.barplot(data=Williamsburg, x=\"Williamsburg Bridge\"   , y=\"High Temp (°F)\")"
   ]
  },
  {
   "cell_type": "code",
   "execution_count": 72,
   "id": "0a0b0813",
   "metadata": {},
   "outputs": [
    {
     "data": {
      "text/html": [
       "<div>\n",
       "<style scoped>\n",
       "    .dataframe tbody tr th:only-of-type {\n",
       "        vertical-align: middle;\n",
       "    }\n",
       "\n",
       "    .dataframe tbody tr th {\n",
       "        vertical-align: top;\n",
       "    }\n",
       "\n",
       "    .dataframe thead th {\n",
       "        text-align: right;\n",
       "    }\n",
       "</style>\n",
       "<table border=\"1\" class=\"dataframe\">\n",
       "  <thead>\n",
       "    <tr style=\"text-align: right;\">\n",
       "      <th></th>\n",
       "      <th>High Temp (°F)</th>\n",
       "      <th>Williamsburg Bridge</th>\n",
       "    </tr>\n",
       "  </thead>\n",
       "  <tbody>\n",
       "    <tr>\n",
       "      <th>High Temp (°F)</th>\n",
       "      <td>1.000000</td>\n",
       "      <td>0.524853</td>\n",
       "    </tr>\n",
       "    <tr>\n",
       "      <th>Williamsburg Bridge</th>\n",
       "      <td>0.524853</td>\n",
       "      <td>1.000000</td>\n",
       "    </tr>\n",
       "  </tbody>\n",
       "</table>\n",
       "</div>"
      ],
      "text/plain": [
       "                     High Temp (°F)  Williamsburg Bridge\n",
       "High Temp (°F)             1.000000             0.524853\n",
       "Williamsburg Bridge        0.524853             1.000000"
      ]
     },
     "execution_count": 72,
     "metadata": {},
     "output_type": "execute_result"
    }
   ],
   "source": [
    "Williamsburg.corr()"
   ]
  },
  {
   "cell_type": "code",
   "execution_count": 73,
   "id": "ac6d9b89",
   "metadata": {},
   "outputs": [],
   "source": [
    "cor=Williamsburg.corr()"
   ]
  },
  {
   "cell_type": "code",
   "execution_count": 74,
   "id": "5c5ff30b",
   "metadata": {},
   "outputs": [
    {
     "data": {
      "text/plain": [
       "<AxesSubplot:>"
      ]
     },
     "execution_count": 74,
     "metadata": {},
     "output_type": "execute_result"
    },
    {
     "data": {
      "image/png": "[encoded data removed]",
      "text/plain": [
       "<Figure size 640x480 with 2 Axes>"
      ]
     },
     "metadata": {},
     "output_type": "display_data"
    }
   ],
   "source": [
    "sns.heatmap(cor)"
   ]
  },
  {
   "cell_type": "code",
   "execution_count": null,
   "id": "f10bffdb",
   "metadata": {},
   "outputs": [],
   "source": [
    "#Queensboro Bridge"
   ]
  },
  {
   "cell_type": "code",
   "execution_count": 75,
   "id": "431b433f",
   "metadata": {},
   "outputs": [
    {
     "data": {
      "text/html": [
       "<div>\n",
       "<style scoped>\n",
       "    .dataframe tbody tr th:only-of-type {\n",
       "        vertical-align: middle;\n",
       "    }\n",
       "\n",
       "    .dataframe tbody tr th {\n",
       "        vertical-align: top;\n",
       "    }\n",
       "\n",
       "    .dataframe thead th {\n",
       "        text-align: right;\n",
       "    }\n",
       "</style>\n",
       "<table border=\"1\" class=\"dataframe\">\n",
       "  <thead>\n",
       "    <tr style=\"text-align: right;\">\n",
       "      <th></th>\n",
       "      <th>Date</th>\n",
       "      <th>High Temp (°F)</th>\n",
       "      <th>Queensboro Bridge</th>\n",
       "    </tr>\n",
       "  </thead>\n",
       "  <tbody>\n",
       "    <tr>\n",
       "      <th>0</th>\n",
       "      <td>01-04-2016 00:00</td>\n",
       "      <td>78.1</td>\n",
       "      <td>2552</td>\n",
       "    </tr>\n",
       "    <tr>\n",
       "      <th>1</th>\n",
       "      <td>02-04-2016 00:00</td>\n",
       "      <td>55.0</td>\n",
       "      <td>1884</td>\n",
       "    </tr>\n",
       "    <tr>\n",
       "      <th>2</th>\n",
       "      <td>03-04-2016 00:00</td>\n",
       "      <td>39.9</td>\n",
       "      <td>1306</td>\n",
       "    </tr>\n",
       "    <tr>\n",
       "      <th>3</th>\n",
       "      <td>04-04-2016 00:00</td>\n",
       "      <td>44.1</td>\n",
       "      <td>1307</td>\n",
       "    </tr>\n",
       "    <tr>\n",
       "      <th>4</th>\n",
       "      <td>05-04-2016 00:00</td>\n",
       "      <td>42.1</td>\n",
       "      <td>2357</td>\n",
       "    </tr>\n",
       "    <tr>\n",
       "      <th>...</th>\n",
       "      <td>...</td>\n",
       "      <td>...</td>\n",
       "      <td>...</td>\n",
       "    </tr>\n",
       "    <tr>\n",
       "      <th>205</th>\n",
       "      <td>26-04-2016 00:00</td>\n",
       "      <td>60.1</td>\n",
       "      <td>2929</td>\n",
       "    </tr>\n",
       "    <tr>\n",
       "      <th>206</th>\n",
       "      <td>27-04-2016 00:00</td>\n",
       "      <td>62.1</td>\n",
       "      <td>4388</td>\n",
       "    </tr>\n",
       "    <tr>\n",
       "      <th>207</th>\n",
       "      <td>28-04-2016 00:00</td>\n",
       "      <td>57.9</td>\n",
       "      <td>3657</td>\n",
       "    </tr>\n",
       "    <tr>\n",
       "      <th>208</th>\n",
       "      <td>29-04-2016 00:00</td>\n",
       "      <td>57.0</td>\n",
       "      <td>3348</td>\n",
       "    </tr>\n",
       "    <tr>\n",
       "      <th>209</th>\n",
       "      <td>30-04-2016 00:00</td>\n",
       "      <td>64.0</td>\n",
       "      <td>3606</td>\n",
       "    </tr>\n",
       "  </tbody>\n",
       "</table>\n",
       "<p>210 rows × 3 columns</p>\n",
       "</div>"
      ],
      "text/plain": [
       "                 Date  High Temp (°F)  Queensboro Bridge\n",
       "0    01-04-2016 00:00            78.1               2552\n",
       "1    02-04-2016 00:00            55.0               1884\n",
       "2    03-04-2016 00:00            39.9               1306\n",
       "3    04-04-2016 00:00            44.1               1307\n",
       "4    05-04-2016 00:00            42.1               2357\n",
       "..                ...             ...                ...\n",
       "205  26-04-2016 00:00            60.1               2929\n",
       "206  27-04-2016 00:00            62.1               4388\n",
       "207  28-04-2016 00:00            57.9               3657\n",
       "208  29-04-2016 00:00            57.0               3348\n",
       "209  30-04-2016 00:00            64.0               3606\n",
       "\n",
       "[210 rows x 3 columns]"
      ]
     },
     "execution_count": 75,
     "metadata": {},
     "output_type": "execute_result"
    }
   ],
   "source": [
    "Data[['Date','High Temp (°F)','Queensboro Bridge']]"
   ]
  },
  {
   "cell_type": "code",
   "execution_count": 105,
   "id": "8ff9640e",
   "metadata": {},
   "outputs": [
    {
     "data": {
      "text/plain": [
       "Date                   21-04-2016 00:00\n",
       "High Temp (°F)                     71.1\n",
       "Low Temp (°F)                      50.0\n",
       "Precipitation                         0\n",
       "Brooklyn Bridge                    3436\n",
       "Manhattan Bridge                   6452\n",
       "Williamsburg Bridge                7426\n",
       "Queensboro Bridge                  4813\n",
       "Name: 50, dtype: object"
      ]
     },
     "execution_count": 105,
     "metadata": {},
     "output_type": "execute_result"
    }
   ],
   "source": [
    "##Maximum Daily Bicycle Ridership is turned out to be 4813 on 21/04/2016\n",
    "# With 200 riders per hour & 4 riders per minute.\n",
    "# The riders faced 71.1°F High Temperature on 21st April.\n",
    "\n",
    "Data.loc[50,'Date':'Queensboro Bridge']"
   ]
  },
  {
   "cell_type": "code",
   "execution_count": 115,
   "id": "fbbe4da9",
   "metadata": {},
   "outputs": [
    {
     "name": "stderr",
     "output_type": "stream",
     "text": [
      "C:\\Users\\rohit\\AppData\\Local\\Temp\\ipykernel_14708\\4155585943.py:1: FutureWarning: Dropping of nuisance columns in DataFrame reductions (with 'numeric_only=None') is deprecated; in a future version this will raise TypeError.  Select only valid columns before calling the reduction.\n",
      "  Data[['Date','High Temp (°F)','Queensboro Bridge']].mean()\n"
     ]
    },
    {
     "data": {
      "text/plain": [
       "High Temp (°F)         60.580000\n",
       "Queensboro Bridge    3352.866667\n",
       "dtype: float64"
      ]
     },
     "execution_count": 115,
     "metadata": {},
     "output_type": "execute_result"
    }
   ],
   "source": [
    "Data[['Date','High Temp (°F)','Queensboro Bridge']].mean()"
   ]
  },
  {
   "cell_type": "code",
   "execution_count": null,
   "id": "93a2ba56",
   "metadata": {},
   "outputs": [],
   "source": [
    "# The Average Bicycle Riders crossing Queensboro Bridge per day is 3353.\n",
    "# Average riders per hour is 140 & 3 rider per minute.\n",
    "# The length of Queensboro Bridge is 1,135.2 m.\n",
    "# The distance between the riders is 378.4m during covering the bridge."
   ]
  },
  {
   "cell_type": "code",
   "execution_count": 77,
   "id": "248e96ba",
   "metadata": {},
   "outputs": [],
   "source": [
    "Queensboro=Data[['Date','High Temp (°F)','Queensboro Bridge']].head(10)"
   ]
  },
  {
   "cell_type": "code",
   "execution_count": 78,
   "id": "af6294d0",
   "metadata": {},
   "outputs": [
    {
     "data": {
      "text/html": [
       "<div>\n",
       "<style scoped>\n",
       "    .dataframe tbody tr th:only-of-type {\n",
       "        vertical-align: middle;\n",
       "    }\n",
       "\n",
       "    .dataframe tbody tr th {\n",
       "        vertical-align: top;\n",
       "    }\n",
       "\n",
       "    .dataframe thead th {\n",
       "        text-align: right;\n",
       "    }\n",
       "</style>\n",
       "<table border=\"1\" class=\"dataframe\">\n",
       "  <thead>\n",
       "    <tr style=\"text-align: right;\">\n",
       "      <th></th>\n",
       "      <th>Date</th>\n",
       "      <th>High Temp (°F)</th>\n",
       "      <th>Queensboro Bridge</th>\n",
       "    </tr>\n",
       "  </thead>\n",
       "  <tbody>\n",
       "    <tr>\n",
       "      <th>0</th>\n",
       "      <td>01-04-2016 00:00</td>\n",
       "      <td>78.1</td>\n",
       "      <td>2552</td>\n",
       "    </tr>\n",
       "    <tr>\n",
       "      <th>1</th>\n",
       "      <td>02-04-2016 00:00</td>\n",
       "      <td>55.0</td>\n",
       "      <td>1884</td>\n",
       "    </tr>\n",
       "    <tr>\n",
       "      <th>2</th>\n",
       "      <td>03-04-2016 00:00</td>\n",
       "      <td>39.9</td>\n",
       "      <td>1306</td>\n",
       "    </tr>\n",
       "    <tr>\n",
       "      <th>3</th>\n",
       "      <td>04-04-2016 00:00</td>\n",
       "      <td>44.1</td>\n",
       "      <td>1307</td>\n",
       "    </tr>\n",
       "    <tr>\n",
       "      <th>4</th>\n",
       "      <td>05-04-2016 00:00</td>\n",
       "      <td>42.1</td>\n",
       "      <td>2357</td>\n",
       "    </tr>\n",
       "    <tr>\n",
       "      <th>5</th>\n",
       "      <td>06-04-2016 00:00</td>\n",
       "      <td>45.0</td>\n",
       "      <td>2849</td>\n",
       "    </tr>\n",
       "    <tr>\n",
       "      <th>6</th>\n",
       "      <td>07-04-2016 00:00</td>\n",
       "      <td>57.0</td>\n",
       "      <td>2457</td>\n",
       "    </tr>\n",
       "    <tr>\n",
       "      <th>7</th>\n",
       "      <td>08-04-2016 00:00</td>\n",
       "      <td>46.9</td>\n",
       "      <td>3194</td>\n",
       "    </tr>\n",
       "    <tr>\n",
       "      <th>8</th>\n",
       "      <td>09-04-2016 00:00</td>\n",
       "      <td>43.0</td>\n",
       "      <td>1502</td>\n",
       "    </tr>\n",
       "    <tr>\n",
       "      <th>9</th>\n",
       "      <td>10-04-2016 00:00</td>\n",
       "      <td>48.9</td>\n",
       "      <td>2160</td>\n",
       "    </tr>\n",
       "  </tbody>\n",
       "</table>\n",
       "</div>"
      ],
      "text/plain": [
       "               Date  High Temp (°F)  Queensboro Bridge\n",
       "0  01-04-2016 00:00            78.1               2552\n",
       "1  02-04-2016 00:00            55.0               1884\n",
       "2  03-04-2016 00:00            39.9               1306\n",
       "3  04-04-2016 00:00            44.1               1307\n",
       "4  05-04-2016 00:00            42.1               2357\n",
       "5  06-04-2016 00:00            45.0               2849\n",
       "6  07-04-2016 00:00            57.0               2457\n",
       "7  08-04-2016 00:00            46.9               3194\n",
       "8  09-04-2016 00:00            43.0               1502\n",
       "9  10-04-2016 00:00            48.9               2160"
      ]
     },
     "execution_count": 78,
     "metadata": {},
     "output_type": "execute_result"
    }
   ],
   "source": [
    "Queensboro"
   ]
  },
  {
   "cell_type": "code",
   "execution_count": 79,
   "id": "e22eea4e",
   "metadata": {},
   "outputs": [
    {
     "data": {
      "text/plain": [
       "<AxesSubplot:xlabel='Queensboro Bridge', ylabel='High Temp (°F)'>"
      ]
     },
     "execution_count": 79,
     "metadata": {},
     "output_type": "execute_result"
    },
    {
     "data": {
      "image/png": "[encoded data removed]",
      "text/plain": [
       "<Figure size 640x480 with 1 Axes>"
      ]
     },
     "metadata": {},
     "output_type": "display_data"
    }
   ],
   "source": [
    "sns.barplot(data=Queensboro, x=\"Queensboro Bridge\"   , y=\"High Temp (°F)\")"
   ]
  },
  {
   "cell_type": "code",
   "execution_count": 80,
   "id": "ed17ee69",
   "metadata": {},
   "outputs": [
    {
     "data": {
      "text/html": [
       "<div>\n",
       "<style scoped>\n",
       "    .dataframe tbody tr th:only-of-type {\n",
       "        vertical-align: middle;\n",
       "    }\n",
       "\n",
       "    .dataframe tbody tr th {\n",
       "        vertical-align: top;\n",
       "    }\n",
       "\n",
       "    .dataframe thead th {\n",
       "        text-align: right;\n",
       "    }\n",
       "</style>\n",
       "<table border=\"1\" class=\"dataframe\">\n",
       "  <thead>\n",
       "    <tr style=\"text-align: right;\">\n",
       "      <th></th>\n",
       "      <th>High Temp (°F)</th>\n",
       "      <th>Queensboro Bridge</th>\n",
       "    </tr>\n",
       "  </thead>\n",
       "  <tbody>\n",
       "    <tr>\n",
       "      <th>High Temp (°F)</th>\n",
       "      <td>1.000000</td>\n",
       "      <td>0.330091</td>\n",
       "    </tr>\n",
       "    <tr>\n",
       "      <th>Queensboro Bridge</th>\n",
       "      <td>0.330091</td>\n",
       "      <td>1.000000</td>\n",
       "    </tr>\n",
       "  </tbody>\n",
       "</table>\n",
       "</div>"
      ],
      "text/plain": [
       "                   High Temp (°F)  Queensboro Bridge\n",
       "High Temp (°F)           1.000000           0.330091\n",
       "Queensboro Bridge        0.330091           1.000000"
      ]
     },
     "execution_count": 80,
     "metadata": {},
     "output_type": "execute_result"
    }
   ],
   "source": [
    " Queensboro.corr()"
   ]
  },
  {
   "cell_type": "code",
   "execution_count": 81,
   "id": "1013a451",
   "metadata": {},
   "outputs": [],
   "source": [
    "cor=Queensboro.corr()"
   ]
  },
  {
   "cell_type": "code",
   "execution_count": 82,
   "id": "ee92241f",
   "metadata": {},
   "outputs": [
    {
     "data": {
      "text/plain": [
       "<AxesSubplot:>"
      ]
     },
     "execution_count": 82,
     "metadata": {},
     "output_type": "execute_result"
    },
    {
     "data": {
      "image/png": "[encoded data removed]",
      "text/plain": [
       "<Figure size 640x480 with 2 Axes>"
      ]
     },
     "metadata": {},
     "output_type": "display_data"
    }
   ],
   "source": [
    "sns.heatmap(cor)"
   ]
  },
  {
   "cell_type": "code",
   "execution_count": 87,
   "id": "a48c59fe",
   "metadata": {},
   "outputs": [],
   "source": [
    "TempToPrec=Data[['Date','Low Temp (°F)','Precipitation']] \n",
    " "
   ]
  },
  {
   "cell_type": "code",
   "execution_count": 88,
   "id": "980da9ea",
   "metadata": {},
   "outputs": [
    {
     "data": {
      "text/html": [
       "<div>\n",
       "<style scoped>\n",
       "    .dataframe tbody tr th:only-of-type {\n",
       "        vertical-align: middle;\n",
       "    }\n",
       "\n",
       "    .dataframe tbody tr th {\n",
       "        vertical-align: top;\n",
       "    }\n",
       "\n",
       "    .dataframe thead th {\n",
       "        text-align: right;\n",
       "    }\n",
       "</style>\n",
       "<table border=\"1\" class=\"dataframe\">\n",
       "  <thead>\n",
       "    <tr style=\"text-align: right;\">\n",
       "      <th></th>\n",
       "      <th>Date</th>\n",
       "      <th>Low Temp (°F)</th>\n",
       "      <th>Precipitation</th>\n",
       "    </tr>\n",
       "  </thead>\n",
       "  <tbody>\n",
       "    <tr>\n",
       "      <th>0</th>\n",
       "      <td>01-04-2016 00:00</td>\n",
       "      <td>66.0</td>\n",
       "      <td>0.01</td>\n",
       "    </tr>\n",
       "    <tr>\n",
       "      <th>1</th>\n",
       "      <td>02-04-2016 00:00</td>\n",
       "      <td>48.9</td>\n",
       "      <td>0.15</td>\n",
       "    </tr>\n",
       "    <tr>\n",
       "      <th>2</th>\n",
       "      <td>03-04-2016 00:00</td>\n",
       "      <td>34.0</td>\n",
       "      <td>0.09</td>\n",
       "    </tr>\n",
       "    <tr>\n",
       "      <th>3</th>\n",
       "      <td>04-04-2016 00:00</td>\n",
       "      <td>33.1</td>\n",
       "      <td>0.47 (S)</td>\n",
       "    </tr>\n",
       "    <tr>\n",
       "      <th>4</th>\n",
       "      <td>05-04-2016 00:00</td>\n",
       "      <td>26.1</td>\n",
       "      <td>0</td>\n",
       "    </tr>\n",
       "    <tr>\n",
       "      <th>...</th>\n",
       "      <td>...</td>\n",
       "      <td>...</td>\n",
       "      <td>...</td>\n",
       "    </tr>\n",
       "    <tr>\n",
       "      <th>205</th>\n",
       "      <td>26-04-2016 00:00</td>\n",
       "      <td>46.9</td>\n",
       "      <td>0.24</td>\n",
       "    </tr>\n",
       "    <tr>\n",
       "      <th>206</th>\n",
       "      <td>27-04-2016 00:00</td>\n",
       "      <td>46.9</td>\n",
       "      <td>0</td>\n",
       "    </tr>\n",
       "    <tr>\n",
       "      <th>207</th>\n",
       "      <td>28-04-2016 00:00</td>\n",
       "      <td>48.0</td>\n",
       "      <td>0</td>\n",
       "    </tr>\n",
       "    <tr>\n",
       "      <th>208</th>\n",
       "      <td>29-04-2016 00:00</td>\n",
       "      <td>46.9</td>\n",
       "      <td>0.05</td>\n",
       "    </tr>\n",
       "    <tr>\n",
       "      <th>209</th>\n",
       "      <td>30-04-2016 00:00</td>\n",
       "      <td>48.0</td>\n",
       "      <td>0</td>\n",
       "    </tr>\n",
       "  </tbody>\n",
       "</table>\n",
       "<p>210 rows × 3 columns</p>\n",
       "</div>"
      ],
      "text/plain": [
       "                 Date  Low Temp (°F) Precipitation\n",
       "0    01-04-2016 00:00           66.0          0.01\n",
       "1    02-04-2016 00:00           48.9          0.15\n",
       "2    03-04-2016 00:00           34.0          0.09\n",
       "3    04-04-2016 00:00           33.1      0.47 (S)\n",
       "4    05-04-2016 00:00           26.1             0\n",
       "..                ...            ...           ...\n",
       "205  26-04-2016 00:00           46.9          0.24\n",
       "206  27-04-2016 00:00           46.9             0\n",
       "207  28-04-2016 00:00           48.0             0\n",
       "208  29-04-2016 00:00           46.9          0.05\n",
       "209  30-04-2016 00:00           48.0             0\n",
       "\n",
       "[210 rows x 3 columns]"
      ]
     },
     "execution_count": 88,
     "metadata": {},
     "output_type": "execute_result"
    }
   ],
   "source": [
    "TempToPrec"
   ]
  },
  {
   "cell_type": "code",
   "execution_count": 89,
   "id": "3585d82e",
   "metadata": {},
   "outputs": [
    {
     "data": {
      "text/html": [
       "<div>\n",
       "<style scoped>\n",
       "    .dataframe tbody tr th:only-of-type {\n",
       "        vertical-align: middle;\n",
       "    }\n",
       "\n",
       "    .dataframe tbody tr th {\n",
       "        vertical-align: top;\n",
       "    }\n",
       "\n",
       "    .dataframe thead th {\n",
       "        text-align: right;\n",
       "    }\n",
       "</style>\n",
       "<table border=\"1\" class=\"dataframe\">\n",
       "  <thead>\n",
       "    <tr style=\"text-align: right;\">\n",
       "      <th></th>\n",
       "      <th>Low Temp (°F)</th>\n",
       "    </tr>\n",
       "  </thead>\n",
       "  <tbody>\n",
       "    <tr>\n",
       "      <th>Low Temp (°F)</th>\n",
       "      <td>1.0</td>\n",
       "    </tr>\n",
       "  </tbody>\n",
       "</table>\n",
       "</div>"
      ],
      "text/plain": [
       "               Low Temp (°F)\n",
       "Low Temp (°F)            1.0"
      ]
     },
     "execution_count": 89,
     "metadata": {},
     "output_type": "execute_result"
    }
   ],
   "source": [
    "TempToPrec.corr()"
   ]
  },
  {
   "cell_type": "code",
   "execution_count": 90,
   "id": "eb0bebf9",
   "metadata": {},
   "outputs": [],
   "source": [
    "cor=TempToPrec.corr()"
   ]
  },
  {
   "cell_type": "code",
   "execution_count": 91,
   "id": "3bfcad2c",
   "metadata": {},
   "outputs": [
    {
     "data": {
      "text/plain": [
       "<AxesSubplot:>"
      ]
     },
     "execution_count": 91,
     "metadata": {},
     "output_type": "execute_result"
    },
    {
     "data": {
      "image/png": "[encoded data removed]",
      "text/plain": [
       "<Figure size 640x480 with 2 Axes>"
      ]
     },
     "metadata": {},
     "output_type": "display_data"
    }
   ],
   "source": [
    "sns.heatmap(cor)"
   ]
  },
  {
   "cell_type": "code",
   "execution_count": 97,
   "id": "561ff91d",
   "metadata": {},
   "outputs": [],
   "source": [
    "TempToPrec=Data[['High Temp (°F)','Low Temp (°F)','Precipitation','Brooklyn Bridge',\"Manhattan Bridge\",\"Williamsburg Bridge\",\"Queensboro Bridge\"]] "
   ]
  },
  {
   "cell_type": "code",
   "execution_count": 98,
   "id": "31f9a1f0",
   "metadata": {},
   "outputs": [
    {
     "data": {
      "text/html": [
       "<div>\n",
       "<style scoped>\n",
       "    .dataframe tbody tr th:only-of-type {\n",
       "        vertical-align: middle;\n",
       "    }\n",
       "\n",
       "    .dataframe tbody tr th {\n",
       "        vertical-align: top;\n",
       "    }\n",
       "\n",
       "    .dataframe thead th {\n",
       "        text-align: right;\n",
       "    }\n",
       "</style>\n",
       "<table border=\"1\" class=\"dataframe\">\n",
       "  <thead>\n",
       "    <tr style=\"text-align: right;\">\n",
       "      <th></th>\n",
       "      <th>High Temp (°F)</th>\n",
       "      <th>Low Temp (°F)</th>\n",
       "      <th>Brooklyn Bridge</th>\n",
       "      <th>Manhattan Bridge</th>\n",
       "      <th>Williamsburg Bridge</th>\n",
       "      <th>Queensboro Bridge</th>\n",
       "    </tr>\n",
       "  </thead>\n",
       "  <tbody>\n",
       "    <tr>\n",
       "      <th>High Temp (°F)</th>\n",
       "      <td>1.000000</td>\n",
       "      <td>0.823853</td>\n",
       "      <td>0.739377</td>\n",
       "      <td>0.720175</td>\n",
       "      <td>0.764336</td>\n",
       "      <td>0.727825</td>\n",
       "    </tr>\n",
       "    <tr>\n",
       "      <th>Low Temp (°F)</th>\n",
       "      <td>0.823853</td>\n",
       "      <td>1.000000</td>\n",
       "      <td>0.464550</td>\n",
       "      <td>0.465097</td>\n",
       "      <td>0.534212</td>\n",
       "      <td>0.475725</td>\n",
       "    </tr>\n",
       "    <tr>\n",
       "      <th>Brooklyn Bridge</th>\n",
       "      <td>0.739377</td>\n",
       "      <td>0.464550</td>\n",
       "      <td>1.000000</td>\n",
       "      <td>0.983148</td>\n",
       "      <td>0.980463</td>\n",
       "      <td>0.976991</td>\n",
       "    </tr>\n",
       "    <tr>\n",
       "      <th>Manhattan Bridge</th>\n",
       "      <td>0.720175</td>\n",
       "      <td>0.465097</td>\n",
       "      <td>0.983148</td>\n",
       "      <td>1.000000</td>\n",
       "      <td>0.989805</td>\n",
       "      <td>0.985867</td>\n",
       "    </tr>\n",
       "    <tr>\n",
       "      <th>Williamsburg Bridge</th>\n",
       "      <td>0.764336</td>\n",
       "      <td>0.534212</td>\n",
       "      <td>0.980463</td>\n",
       "      <td>0.989805</td>\n",
       "      <td>1.000000</td>\n",
       "      <td>0.988852</td>\n",
       "    </tr>\n",
       "    <tr>\n",
       "      <th>Queensboro Bridge</th>\n",
       "      <td>0.727825</td>\n",
       "      <td>0.475725</td>\n",
       "      <td>0.976991</td>\n",
       "      <td>0.985867</td>\n",
       "      <td>0.988852</td>\n",
       "      <td>1.000000</td>\n",
       "    </tr>\n",
       "  </tbody>\n",
       "</table>\n",
       "</div>"
      ],
      "text/plain": [
       "                     High Temp (°F)  Low Temp (°F)  Brooklyn Bridge  \\\n",
       "High Temp (°F)             1.000000       0.823853         0.739377   \n",
       "Low Temp (°F)              0.823853       1.000000         0.464550   \n",
       "Brooklyn Bridge            0.739377       0.464550         1.000000   \n",
       "Manhattan Bridge           0.720175       0.465097         0.983148   \n",
       "Williamsburg Bridge        0.764336       0.534212         0.980463   \n",
       "Queensboro Bridge          0.727825       0.475725         0.976991   \n",
       "\n",
       "                     Manhattan Bridge  Williamsburg Bridge  Queensboro Bridge  \n",
       "High Temp (°F)               0.720175             0.764336           0.727825  \n",
       "Low Temp (°F)                0.465097             0.534212           0.475725  \n",
       "Brooklyn Bridge              0.983148             0.980463           0.976991  \n",
       "Manhattan Bridge             1.000000             0.989805           0.985867  \n",
       "Williamsburg Bridge          0.989805             1.000000           0.988852  \n",
       "Queensboro Bridge            0.985867             0.988852           1.000000  "
      ]
     },
     "execution_count": 98,
     "metadata": {},
     "output_type": "execute_result"
    }
   ],
   "source": [
    "TempToPrec.corr()"
   ]
  },
  {
   "cell_type": "code",
   "execution_count": 99,
   "id": "c7e83d16",
   "metadata": {},
   "outputs": [],
   "source": [
    "cor=TempToPrec.corr()"
   ]
  },
  {
   "cell_type": "code",
   "execution_count": 100,
   "id": "e0e7832c",
   "metadata": {},
   "outputs": [
    {
     "data": {
      "text/plain": [
       "<AxesSubplot:>"
      ]
     },
     "execution_count": 100,
     "metadata": {},
     "output_type": "execute_result"
    },
    {
     "data": {
      "image/png": "[encoded data removed]",
      "text/plain": [
       "<Figure size 640x480 with 2 Axes>"
      ]
     },
     "metadata": {},
     "output_type": "display_data"
    }
   ],
   "source": [
    "sns.heatmap(cor) "
   ]
  },
  {
   "cell_type": "code",
   "execution_count": null,
   "id": "1bd2bed2",
   "metadata": {},
   "outputs": [],
   "source": []
  },
  {
   "cell_type": "code",
   "execution_count": 108,
   "id": "3b5f8aa8",
   "metadata": {},
   "outputs": [
    {
     "data": {
      "image/png": "[encoded data removed]",
      "text/plain": [
       "<Figure size 640x480 with 1 Axes>"
      ]
     },
     "metadata": {},
     "output_type": "display_data"
    }
   ],
   "source": [
    "data = [3871,6452,7834,5032]\n",
    "keys = ['Brooklyn Bridge', 'Manhattan Bridge', 'Williamsburg Bridge', 'Queensboro Bridge' ]\n",
    "  \n",
    "# define Seaborn color palette to use\n",
    "palette_color = seaborn.color_palette('bright')\n",
    "  \n",
    "# plotting data on chart\n",
    "plt.pie(data, labels=keys, colors=palette_color, autopct='%.0f%%')\n",
    "  \n",
    "# displaying chart\n",
    "plt.show()"
   ]
  },
  {
   "cell_type": "code",
   "execution_count": null,
   "id": "ad9c12e6",
   "metadata": {},
   "outputs": [],
   "source": [
    "# The most bicycle riders crossing the bridge everyday is Williamsburg Bridge with 34%.\n",
    "# The least bicycle riders crossing the bridge everyday is Brooklyn Bridge with 17%."
   ]
  }
 ],
 "metadata": {
  "kernelspec": {
   "display_name": "Python 3 (ipykernel)",
   "language": "python",
   "name": "python3"
  },
  "language_info": {
   "codemirror_mode": {
    "name": "ipython",
    "version": 3
   },
   "file_extension": ".py",
   "mimetype": "text/x-python",
   "name": "python",
   "nbconvert_exporter": "python",
   "pygments_lexer": "ipython3",
   "version": "3.9.13"
  }
 },
 "nbformat": 4,
 "nbformat_minor": 5
}
